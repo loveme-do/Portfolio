{
 "cells": [
  {
   "cell_type": "markdown",
   "metadata": {},
   "source": [
    "# Материалы \n",
    "\n",
    "* [Презентация](https://disk.yandex.ru/i/_pw48C-vRZT7Ew)"
   ]
  },
  {
   "cell_type": "markdown",
   "metadata": {},
   "source": [
    "* [Дашборборд](https://public.tableau.com/app/profile/love.medo/viz/_16928441399720/Dashboard2)"
   ]
  },
  {
   "cell_type": "markdown",
   "metadata": {},
   "source": [
    "# Анализ оттока клиентов в региональном банке"
   ]
  },
  {
   "cell_type": "markdown",
   "metadata": {},
   "source": [
    "<a id='section1'></a>"
   ]
  },
  {
   "cell_type": "markdown",
   "metadata": {},
   "source": [
    "##  Описание проекта"
   ]
  },
  {
   "cell_type": "markdown",
   "metadata": {},
   "source": [
    "**Заказчик:**  \n",
    "Отдел маркетинга банка «Метанпром»\n",
    "\n",
    "\n",
    "**Цель исследования:**  \n",
    "Определить факторы, влияющие на отток клиентов в региональном банке \"Метанпромбанк\", выделить отточные сегменты и разработать рекомендации по снижения оттока.\n",
    "\n",
    "\n",
    "**Задачи:**  \n",
    "- Подготовить данные к анализу: обработка пропусков, дубликатов , типов даннных, кодирование и т.д.  \n",
    "\n",
    "\n",
    "- Провести исследовательский анализ: анализ портретов клиентов, выявление факторов влияющих на отток, исследование признаков отточности, выявление корреляционной связи.\n",
    "\n",
    "\n",
    "- Сформулировать и проверить статистические гипотезы о различии между отточными и неотточными клиентами по параметрам дохода, возраста или другим характеристикам.\n",
    "\n",
    "\n",
    "- Разработать модель сегментации клиентов и приоритизации сегментов на основе значимых признаков. \n",
    "\n",
    "\n",
    "- Подготовить рекомендации по снижению оттока клиентов согласно приоритизации сегментов.  "
   ]
  },
  {
   "cell_type": "markdown",
   "metadata": {},
   "source": [
    "<a id='section1_1'></a>"
   ]
  },
  {
   "cell_type": "markdown",
   "metadata": {},
   "source": [
    "**Входные данные:**  \n",
    "Датасет содержит данные о клиентах банка\n",
    "\n",
    "**Описание данных:**  \n",
    "\n",
    "- `userid` — идентификатор пользователя,\n",
    "- `score` — баллы кредитного скоринга,\n",
    "- `City` — город,\n",
    "- `Gender` — пол,\n",
    "- `Age` — возраст,\n",
    "- `Equity` — количество баллов собственности,\n",
    "- `Balance` — баланс на счёте,\n",
    "- `Products` — количество продуктов, которыми пользуется клиент,\n",
    "- `CreditCard` — есть ли кредитная карта,\n",
    "- `last_activity`— активный клиент,\n",
    "- `est_salary` — заработная плата клиента,\n",
    "- `Churn` — ушёл или нет."
   ]
  },
  {
   "cell_type": "markdown",
   "metadata": {},
   "source": [
    "# Оглавление\n",
    "\n",
    "1. [Описание проекта](#section1)\n",
    "    * [Описание данных](#section1_1)\n",
    "\n",
    "\n",
    "2. [Обзор и предобработка данных](#section2)\n",
    "    * [Ознакомимся с общей онформацией](#section2_1)\n",
    "    * [Переименуем столбцы](#section2_2)\n",
    "    * [Обзор и обработка типов данных](#section2_3)\n",
    "    * [Поиск и обработка дубликатов](#section2_4)\n",
    "    * [Поиск и обработка пропущенных значений: Анализ причин возникновения пропусков посредствам сводной таблицы зависимости от признаков](#section2_5)\n",
    "    * [Обзор описательной статистики: Выявляем и анализируем аномальные значения](#section2_6)\n",
    "    * [Кодирование данных: Преобразуем категориальные переменные в числовой формат для последующего анализа корреляции.](#section2_7)\n",
    "    * [Промежуточные вывод](#section2_8)"
   ]
  },
  {
   "cell_type": "markdown",
   "metadata": {},
   "source": [
    "3. [EDA (исследовательский анализ данных)](#section3)\n",
    "    * [3.1 Анализ портретов клиентов в разрезе оттока](#section3_1)\n",
    "         * [Группируем клиентов по их признакам и категориям оттока.](#section3_1_1)\n",
    "         * [Сравним портреты клиентов, находящихся в оттоке и не находящихся в оттоке, с целью выявления характерных особенностей и различий между ними.](#section3_1_2)\n",
    "         * [Cравненим характеристики клиентов, склонных и не склонных уходить из банка.](#section3_1_3)\n",
    "         * [Визуализируем результат для наглядного представления анализа портретов клиентов.](#section3_1_4)\n",
    "    * [3.2 Анализ распределения признаков](#section3_2)\n",
    "       * [Анализ распределений непрерывных признаков: Найдем отточные интервалы, то есть интервалы значений признаков, в которых отток клиентов выше чем лояльность.](#section3_2_1)\n",
    "       * [Исследование категориальных/дискретных признаков: Определим значения признаков, у которых отток клиентов выше, чем среднее по банку.](#section3_2_2)\n",
    "    * [3.3 Корреляционный анализ](#section3_3)\n",
    "         * [Расчет коэффициентов корреляции между различными признаками с использованием статистических методов](#section3_3_1)\n",
    "         * [Анализ полученных значений корреляции для определения сильных и слабых связей между признаками. Определение влияющих факторов на отток клиентов. Использование полученных результатов при сегментации](#section3_3_1)\n",
    "    * [3.4 Промежуточные выводы](#section3_4)"
   ]
  },
  {
   "cell_type": "markdown",
   "metadata": {},
   "source": [
    "     \n",
    "         \n",
    "4. [Проверка гипотез](#section4)\n",
    "    * [Формулирование и проверка гипотезы о различии дохода между клиентами, ушедшими и оставшимися](#section4_1)\n",
    "    * [Формулирование и проверка гипотезы о различии количества продуктов, которыми пользуется клиен, ушедшими и оставшимися ](#section4_2)\n",
    "    * [Формулирование и проверка других статистических гипотез, по неяным признакам, с целью получения дополнительных выводов.](#section4_3)\n",
    "    * [Промежуточные выводы](#section4_4)\n",
    " "
   ]
  },
  {
   "cell_type": "markdown",
   "metadata": {},
   "source": [
    "[Выводы:  \n",
    "    Сводная информация о распределении признаков, портретах клиентов и выявленных особенностях в разрезе оттока для формирования сегментов](#section5)   "
   ]
  },
  {
   "cell_type": "markdown",
   "metadata": {},
   "source": [
    "    \n",
    "5. [Сегментация клиентов](#section5)\n",
    "    * [Объединение признаков, связанных с оттоком, для формирования сегментов клиентов.](#section6_1)\n",
    "    * [Отбор сегментов с количеством клиентов не менее 500 и уровнем оттока ниже среднего по банку](#section6_2)"
   ]
  },
  {
   "cell_type": "markdown",
   "metadata": {},
   "source": [
    "6. [Приоритизация сегментов:](#section6)  \n",
    "   [Ранжируем сформированные сегменты в соответствии с их значимостью и с учетом информации об отсутствии атоматизированной системы в отделе маргетинга](#section7)"
   ]
  },
  {
   "cell_type": "markdown",
   "metadata": {},
   "source": [
    "    \n",
    "7. [Формирование рекомендаций:](#section7)  \n",
    "   [Подготовим  рекомендаций по работе с каждым приоритетным сегментом, с учетом их особенностей и выявленных влияющих признаков, ориентированные на снижение оттока клиентов](#section8)  "
   ]
  },
  {
   "cell_type": "markdown",
   "metadata": {},
   "source": [
    "<a id='section2'></a>"
   ]
  },
  {
   "cell_type": "markdown",
   "metadata": {},
   "source": [
    "## Обзор и предобработка данных"
   ]
  },
  {
   "cell_type": "markdown",
   "metadata": {},
   "source": [
    "<a id='section2_1'></a>"
   ]
  },
  {
   "cell_type": "markdown",
   "metadata": {},
   "source": [
    "### Ознакомимся с общей информацией"
   ]
  },
  {
   "cell_type": "code",
   "execution_count": 1,
   "metadata": {
    "scrolled": true
   },
   "outputs": [],
   "source": [
    "# импортируем библиотеки \n",
    "#!pip install phik\n",
    "import pandas as pd\n",
    "import numpy as np\n",
    "import datetime as dt\n",
    "import matplotlib\n",
    "import seaborn as sns\n",
    "import matplotlib.pyplot as plt\n",
    "import plotly.express as px \n",
    "from folium import Map, Marker\n",
    "from IPython.display import display\n",
    "from phik import phik_from_array\n",
    "import scipy.stats as st\n",
    "from scipy.stats import shapiro\n",
    "from scipy.stats import mannwhitneyu\n",
    "from scipy.stats import chi2_contingency\n",
    "from scipy.stats import ttest_ind\n",
    "import re"
   ]
  },
  {
   "cell_type": "code",
   "execution_count": 2,
   "metadata": {},
   "outputs": [],
   "source": [
    "# снимаем ограничение на количество столбцов\n",
    "pd.set_option('display.max_columns', None)\n",
    "# снимаем ограничение на ширину столбцов\n",
    "pd.set_option('display.max_colwidth', None)\n",
    "# выставляем ограничение на показ знаков после запятой\n",
    "pd.options.display.float_format = '{:,.2f}'.format"
   ]
  },
  {
   "cell_type": "code",
   "execution_count": 3,
   "metadata": {},
   "outputs": [],
   "source": [
    "#прочитаем данные и сохраним в переменную \n",
    "path = \"https://drive.google.com/uc?export=download&id=1-U61mhTz_N1ARjy2XSAZ7IlQqGjeqP0F\"   \n",
    "    \n",
    "try:\n",
    "    df = pd.read_csv(path)\n",
    "except:\n",
    "    df = pd.read_csv(\"C:/Users/Lyubov/Desktop/Practicum/projects/datasets/bank_scrooge.csv\")"
   ]
  },
  {
   "cell_type": "code",
   "execution_count": 4,
   "metadata": {
    "scrolled": false
   },
   "outputs": [
    {
     "name": "stdout",
     "output_type": "stream",
     "text": [
      "\n",
      "Первые 10 строк данных:\n"
     ]
    },
    {
     "data": {
      "text/html": [
       "<div>\n",
       "<style scoped>\n",
       "    .dataframe tbody tr th:only-of-type {\n",
       "        vertical-align: middle;\n",
       "    }\n",
       "\n",
       "    .dataframe tbody tr th {\n",
       "        vertical-align: top;\n",
       "    }\n",
       "\n",
       "    .dataframe thead th {\n",
       "        text-align: right;\n",
       "    }\n",
       "</style>\n",
       "<table border=\"1\" class=\"dataframe\">\n",
       "  <thead>\n",
       "    <tr style=\"text-align: right;\">\n",
       "      <th></th>\n",
       "      <th>userid</th>\n",
       "      <th>score</th>\n",
       "      <th>city</th>\n",
       "      <th>gender</th>\n",
       "      <th>age</th>\n",
       "      <th>equity</th>\n",
       "      <th>balance</th>\n",
       "      <th>products</th>\n",
       "      <th>credit_card</th>\n",
       "      <th>last_activity</th>\n",
       "      <th>est_salary</th>\n",
       "      <th>churn</th>\n",
       "    </tr>\n",
       "  </thead>\n",
       "  <tbody>\n",
       "    <tr>\n",
       "      <th>0</th>\n",
       "      <td>183012</td>\n",
       "      <td>850.00</td>\n",
       "      <td>Рыбинск</td>\n",
       "      <td>Ж</td>\n",
       "      <td>25.00</td>\n",
       "      <td>1</td>\n",
       "      <td>59,214.82</td>\n",
       "      <td>2</td>\n",
       "      <td>0</td>\n",
       "      <td>1</td>\n",
       "      <td>75,719.14</td>\n",
       "      <td>1</td>\n",
       "    </tr>\n",
       "    <tr>\n",
       "      <th>1</th>\n",
       "      <td>146556</td>\n",
       "      <td>861.00</td>\n",
       "      <td>Рыбинск</td>\n",
       "      <td>Ж</td>\n",
       "      <td>37.00</td>\n",
       "      <td>5</td>\n",
       "      <td>850,594.33</td>\n",
       "      <td>3</td>\n",
       "      <td>1</td>\n",
       "      <td>0</td>\n",
       "      <td>86,621.77</td>\n",
       "      <td>0</td>\n",
       "    </tr>\n",
       "    <tr>\n",
       "      <th>2</th>\n",
       "      <td>120722</td>\n",
       "      <td>892.00</td>\n",
       "      <td>Рыбинск</td>\n",
       "      <td>Ж</td>\n",
       "      <td>30.00</td>\n",
       "      <td>0</td>\n",
       "      <td>NaN</td>\n",
       "      <td>1</td>\n",
       "      <td>1</td>\n",
       "      <td>1</td>\n",
       "      <td>107,683.34</td>\n",
       "      <td>0</td>\n",
       "    </tr>\n",
       "    <tr>\n",
       "      <th>3</th>\n",
       "      <td>225363</td>\n",
       "      <td>866.00</td>\n",
       "      <td>Ярославль</td>\n",
       "      <td>Ж</td>\n",
       "      <td>51.00</td>\n",
       "      <td>5</td>\n",
       "      <td>1,524,746.26</td>\n",
       "      <td>2</td>\n",
       "      <td>0</td>\n",
       "      <td>1</td>\n",
       "      <td>174,423.53</td>\n",
       "      <td>1</td>\n",
       "    </tr>\n",
       "    <tr>\n",
       "      <th>4</th>\n",
       "      <td>157978</td>\n",
       "      <td>730.00</td>\n",
       "      <td>Ярославль</td>\n",
       "      <td>М</td>\n",
       "      <td>34.00</td>\n",
       "      <td>5</td>\n",
       "      <td>174.00</td>\n",
       "      <td>1</td>\n",
       "      <td>1</td>\n",
       "      <td>0</td>\n",
       "      <td>67,353.16</td>\n",
       "      <td>1</td>\n",
       "    </tr>\n",
       "    <tr>\n",
       "      <th>5</th>\n",
       "      <td>202305</td>\n",
       "      <td>856.00</td>\n",
       "      <td>Рыбинск</td>\n",
       "      <td>М</td>\n",
       "      <td>56.00</td>\n",
       "      <td>4</td>\n",
       "      <td>863,687.24</td>\n",
       "      <td>3</td>\n",
       "      <td>1</td>\n",
       "      <td>0</td>\n",
       "      <td>156,619.80</td>\n",
       "      <td>0</td>\n",
       "    </tr>\n",
       "    <tr>\n",
       "      <th>6</th>\n",
       "      <td>177259</td>\n",
       "      <td>807.00</td>\n",
       "      <td>Ярославль</td>\n",
       "      <td>Ж</td>\n",
       "      <td>39.00</td>\n",
       "      <td>3</td>\n",
       "      <td>405,042.44</td>\n",
       "      <td>3</td>\n",
       "      <td>0</td>\n",
       "      <td>1</td>\n",
       "      <td>103,838.32</td>\n",
       "      <td>0</td>\n",
       "    </tr>\n",
       "    <tr>\n",
       "      <th>7</th>\n",
       "      <td>218868</td>\n",
       "      <td>825.00</td>\n",
       "      <td>Ярославль</td>\n",
       "      <td>Ж</td>\n",
       "      <td>38.00</td>\n",
       "      <td>4</td>\n",
       "      <td>458,145.40</td>\n",
       "      <td>2</td>\n",
       "      <td>1</td>\n",
       "      <td>1</td>\n",
       "      <td>68,085.48</td>\n",
       "      <td>0</td>\n",
       "    </tr>\n",
       "    <tr>\n",
       "      <th>8</th>\n",
       "      <td>211686</td>\n",
       "      <td>923.00</td>\n",
       "      <td>Ярославль</td>\n",
       "      <td>М</td>\n",
       "      <td>54.00</td>\n",
       "      <td>5</td>\n",
       "      <td>1,206,337.87</td>\n",
       "      <td>2</td>\n",
       "      <td>1</td>\n",
       "      <td>0</td>\n",
       "      <td>155,371.79</td>\n",
       "      <td>0</td>\n",
       "    </tr>\n",
       "    <tr>\n",
       "      <th>9</th>\n",
       "      <td>133130</td>\n",
       "      <td>906.00</td>\n",
       "      <td>Ярославль</td>\n",
       "      <td>Ж</td>\n",
       "      <td>67.00</td>\n",
       "      <td>0</td>\n",
       "      <td>NaN</td>\n",
       "      <td>1</td>\n",
       "      <td>0</td>\n",
       "      <td>1</td>\n",
       "      <td>238,055.53</td>\n",
       "      <td>0</td>\n",
       "    </tr>\n",
       "  </tbody>\n",
       "</table>\n",
       "</div>"
      ],
      "text/plain": [
       "   userid  score       city gender   age  equity      balance  products  \\\n",
       "0  183012 850.00    Рыбинск      Ж 25.00       1    59,214.82         2   \n",
       "1  146556 861.00    Рыбинск      Ж 37.00       5   850,594.33         3   \n",
       "2  120722 892.00    Рыбинск      Ж 30.00       0          NaN         1   \n",
       "3  225363 866.00  Ярославль      Ж 51.00       5 1,524,746.26         2   \n",
       "4  157978 730.00  Ярославль      М 34.00       5       174.00         1   \n",
       "5  202305 856.00    Рыбинск      М 56.00       4   863,687.24         3   \n",
       "6  177259 807.00  Ярославль      Ж 39.00       3   405,042.44         3   \n",
       "7  218868 825.00  Ярославль      Ж 38.00       4   458,145.40         2   \n",
       "8  211686 923.00  Ярославль      М 54.00       5 1,206,337.87         2   \n",
       "9  133130 906.00  Ярославль      Ж 67.00       0          NaN         1   \n",
       "\n",
       "   credit_card  last_activity  est_salary  churn  \n",
       "0            0              1   75,719.14      1  \n",
       "1            1              0   86,621.77      0  \n",
       "2            1              1  107,683.34      0  \n",
       "3            0              1  174,423.53      1  \n",
       "4            1              0   67,353.16      1  \n",
       "5            1              0  156,619.80      0  \n",
       "6            0              1  103,838.32      0  \n",
       "7            1              1   68,085.48      0  \n",
       "8            1              0  155,371.79      0  \n",
       "9            0              1  238,055.53      0  "
      ]
     },
     "metadata": {},
     "output_type": "display_data"
    },
    {
     "name": "stdout",
     "output_type": "stream",
     "text": [
      "**************************************************\n",
      "\n",
      "Информация о данных:\n",
      "<class 'pandas.core.frame.DataFrame'>\n",
      "RangeIndex: 10000 entries, 0 to 9999\n",
      "Data columns (total 12 columns):\n",
      " #   Column         Non-Null Count  Dtype  \n",
      "---  ------         --------------  -----  \n",
      " 0   userid         10000 non-null  int64  \n",
      " 1   score          10000 non-null  float64\n",
      " 2   city           10000 non-null  object \n",
      " 3   gender         10000 non-null  object \n",
      " 4   age            9974 non-null   float64\n",
      " 5   equity         10000 non-null  int64  \n",
      " 6   balance        7705 non-null   float64\n",
      " 7   products       10000 non-null  int64  \n",
      " 8   credit_card    10000 non-null  int64  \n",
      " 9   last_activity  10000 non-null  int64  \n",
      " 10  est_salary     10000 non-null  float64\n",
      " 11  churn          10000 non-null  int64  \n",
      "dtypes: float64(4), int64(6), object(2)\n",
      "memory usage: 937.6+ KB\n",
      "**************************************************\n",
      "\n",
      "Доля пропущенных значений по столбцам:\n",
      "balance         22.95\n",
      "age              0.26\n",
      "userid           0.00\n",
      "score            0.00\n",
      "city             0.00\n",
      "gender           0.00\n",
      "equity           0.00\n",
      "products         0.00\n",
      "credit_card      0.00\n",
      "last_activity    0.00\n",
      "est_salary       0.00\n",
      "churn            0.00\n",
      "dtype: float64\n",
      "**************************************************\n",
      "\n",
      "Описательная статистика:\n"
     ]
    },
    {
     "data": {
      "text/html": [
       "<div>\n",
       "<style scoped>\n",
       "    .dataframe tbody tr th:only-of-type {\n",
       "        vertical-align: middle;\n",
       "    }\n",
       "\n",
       "    .dataframe tbody tr th {\n",
       "        vertical-align: top;\n",
       "    }\n",
       "\n",
       "    .dataframe thead th {\n",
       "        text-align: right;\n",
       "    }\n",
       "</style>\n",
       "<table border=\"1\" class=\"dataframe\">\n",
       "  <thead>\n",
       "    <tr style=\"text-align: right;\">\n",
       "      <th></th>\n",
       "      <th>count</th>\n",
       "      <th>mean</th>\n",
       "      <th>std</th>\n",
       "      <th>min</th>\n",
       "      <th>25%</th>\n",
       "      <th>50%</th>\n",
       "      <th>75%</th>\n",
       "      <th>max</th>\n",
       "    </tr>\n",
       "  </thead>\n",
       "  <tbody>\n",
       "    <tr>\n",
       "      <th>userid</th>\n",
       "      <td>10,000.00</td>\n",
       "      <td>171,814.71</td>\n",
       "      <td>33,708.24</td>\n",
       "      <td>94,561.00</td>\n",
       "      <td>142,810.25</td>\n",
       "      <td>172,728.00</td>\n",
       "      <td>201,261.75</td>\n",
       "      <td>229,145.00</td>\n",
       "    </tr>\n",
       "    <tr>\n",
       "      <th>score</th>\n",
       "      <td>10,000.00</td>\n",
       "      <td>848.70</td>\n",
       "      <td>65.45</td>\n",
       "      <td>642.00</td>\n",
       "      <td>802.00</td>\n",
       "      <td>853.00</td>\n",
       "      <td>900.00</td>\n",
       "      <td>1,000.00</td>\n",
       "    </tr>\n",
       "    <tr>\n",
       "      <th>age</th>\n",
       "      <td>9,974.00</td>\n",
       "      <td>42.73</td>\n",
       "      <td>12.18</td>\n",
       "      <td>18.00</td>\n",
       "      <td>33.00</td>\n",
       "      <td>40.00</td>\n",
       "      <td>51.00</td>\n",
       "      <td>86.00</td>\n",
       "    </tr>\n",
       "    <tr>\n",
       "      <th>equity</th>\n",
       "      <td>10,000.00</td>\n",
       "      <td>2.63</td>\n",
       "      <td>1.98</td>\n",
       "      <td>0.00</td>\n",
       "      <td>0.00</td>\n",
       "      <td>3.00</td>\n",
       "      <td>4.00</td>\n",
       "      <td>9.00</td>\n",
       "    </tr>\n",
       "    <tr>\n",
       "      <th>balance</th>\n",
       "      <td>7,705.00</td>\n",
       "      <td>827,794.31</td>\n",
       "      <td>1,980,614.15</td>\n",
       "      <td>0.00</td>\n",
       "      <td>295,554.16</td>\n",
       "      <td>524,272.20</td>\n",
       "      <td>980,705.85</td>\n",
       "      <td>119,113,552.01</td>\n",
       "    </tr>\n",
       "    <tr>\n",
       "      <th>products</th>\n",
       "      <td>10,000.00</td>\n",
       "      <td>1.87</td>\n",
       "      <td>0.79</td>\n",
       "      <td>0.00</td>\n",
       "      <td>1.00</td>\n",
       "      <td>2.00</td>\n",
       "      <td>2.00</td>\n",
       "      <td>5.00</td>\n",
       "    </tr>\n",
       "    <tr>\n",
       "      <th>credit_card</th>\n",
       "      <td>10,000.00</td>\n",
       "      <td>0.68</td>\n",
       "      <td>0.47</td>\n",
       "      <td>0.00</td>\n",
       "      <td>0.00</td>\n",
       "      <td>1.00</td>\n",
       "      <td>1.00</td>\n",
       "      <td>1.00</td>\n",
       "    </tr>\n",
       "    <tr>\n",
       "      <th>last_activity</th>\n",
       "      <td>10,000.00</td>\n",
       "      <td>0.52</td>\n",
       "      <td>0.50</td>\n",
       "      <td>0.00</td>\n",
       "      <td>0.00</td>\n",
       "      <td>1.00</td>\n",
       "      <td>1.00</td>\n",
       "      <td>1.00</td>\n",
       "    </tr>\n",
       "    <tr>\n",
       "      <th>est_salary</th>\n",
       "      <td>10,000.00</td>\n",
       "      <td>147,866.89</td>\n",
       "      <td>139,388.51</td>\n",
       "      <td>2,546.30</td>\n",
       "      <td>75,251.90</td>\n",
       "      <td>119,658.10</td>\n",
       "      <td>174,500.54</td>\n",
       "      <td>1,395,064.45</td>\n",
       "    </tr>\n",
       "    <tr>\n",
       "      <th>churn</th>\n",
       "      <td>10,000.00</td>\n",
       "      <td>0.18</td>\n",
       "      <td>0.39</td>\n",
       "      <td>0.00</td>\n",
       "      <td>0.00</td>\n",
       "      <td>0.00</td>\n",
       "      <td>0.00</td>\n",
       "      <td>1.00</td>\n",
       "    </tr>\n",
       "  </tbody>\n",
       "</table>\n",
       "</div>"
      ],
      "text/plain": [
       "                  count       mean          std       min        25%  \\\n",
       "userid        10,000.00 171,814.71    33,708.24 94,561.00 142,810.25   \n",
       "score         10,000.00     848.70        65.45    642.00     802.00   \n",
       "age            9,974.00      42.73        12.18     18.00      33.00   \n",
       "equity        10,000.00       2.63         1.98      0.00       0.00   \n",
       "balance        7,705.00 827,794.31 1,980,614.15      0.00 295,554.16   \n",
       "products      10,000.00       1.87         0.79      0.00       1.00   \n",
       "credit_card   10,000.00       0.68         0.47      0.00       0.00   \n",
       "last_activity 10,000.00       0.52         0.50      0.00       0.00   \n",
       "est_salary    10,000.00 147,866.89   139,388.51  2,546.30  75,251.90   \n",
       "churn         10,000.00       0.18         0.39      0.00       0.00   \n",
       "\n",
       "                     50%        75%            max  \n",
       "userid        172,728.00 201,261.75     229,145.00  \n",
       "score             853.00     900.00       1,000.00  \n",
       "age                40.00      51.00          86.00  \n",
       "equity              3.00       4.00           9.00  \n",
       "balance       524,272.20 980,705.85 119,113,552.01  \n",
       "products            2.00       2.00           5.00  \n",
       "credit_card         1.00       1.00           1.00  \n",
       "last_activity       1.00       1.00           1.00  \n",
       "est_salary    119,658.10 174,500.54   1,395,064.45  \n",
       "churn               0.00       0.00           1.00  "
      ]
     },
     "metadata": {},
     "output_type": "display_data"
    },
    {
     "name": "stdout",
     "output_type": "stream",
     "text": [
      "**************************************************\n",
      "\n",
      "Уникальные значения категориальных столбцов:\n",
      "\n",
      "Столбец city:\n",
      "['Рыбинск' 'Ярославль' 'Ростов']\n",
      "\n",
      "Столбец gender:\n",
      "['Ж' 'М']\n"
     ]
    }
   ],
   "source": [
    "# напишем функцию для оптимизации первого этапа исследования\n",
    "def data_overview(df):\n",
    "    # исправляем стиль в заголовках столбцов\n",
    "    df.columns = [re.sub(r'(?<=[a-z])(?=[A-Z])', '_', x).lower() for x in df.columns]\n",
    "\n",
    "    # Показываем первые 10 строк данных\n",
    "    print(\"\\nПервые 10 строк данных:\")\n",
    "    display(df.head(10))\n",
    "    print('*' * 50)\n",
    "    \n",
    "    # Показываем информацию о данных\n",
    "    print(\"\\nИнформация о данных:\")\n",
    "    df.info()\n",
    "    print('*' * 50)\n",
    "    \n",
    "    # Показываем долю пропущенных значений\n",
    "    print(\"\\nДоля пропущенных значений по столбцам:\")\n",
    "    missing_values_ratio = (df.isna().mean().sort_values(ascending=False)) * 100\n",
    "    print(missing_values_ratio)\n",
    "    print('*' * 50)\n",
    "    \n",
    "    # Показываем описательную статистику\n",
    "    print(\"\\nОписательная статистика:\")\n",
    "    display(df.describe().T)\n",
    "    print('*' * 50)\n",
    "   \n",
    "    # Показываем уникальные значения категориальных столбцов\n",
    "    print(\"\\nУникальные значения категориальных столбцов:\")\n",
    "    categorical_columns = df.select_dtypes(include=['object']).columns\n",
    "    for col in categorical_columns:\n",
    "        print(f\"\\nСтолбец {col}:\")\n",
    "        print(df[col].unique())\n",
    "        \n",
    "\n",
    "data_overview(df)"
   ]
  },
  {
   "cell_type": "markdown",
   "metadata": {},
   "source": [
    "<a id='section2_2'></a>"
   ]
  },
  {
   "cell_type": "markdown",
   "metadata": {},
   "source": [
    "### Переименуем столбцы"
   ]
  },
  {
   "cell_type": "code",
   "execution_count": 5,
   "metadata": {},
   "outputs": [],
   "source": [
    "#переименуем столбец userid , для удобства \n",
    "df = df.rename(columns={'userid':'user_id'})"
   ]
  },
  {
   "cell_type": "markdown",
   "metadata": {},
   "source": [
    "<a id='section2_3'></a>"
   ]
  },
  {
   "cell_type": "markdown",
   "metadata": {},
   "source": [
    "### Преобразование типа данных"
   ]
  },
  {
   "cell_type": "markdown",
   "metadata": {},
   "source": [
    "Преобразуем возраст и скоринговый балл из вещественного типа в целочисленный, так как эти параметры обычно измеряются в целых числах."
   ]
  },
  {
   "cell_type": "code",
   "execution_count": 6,
   "metadata": {},
   "outputs": [],
   "source": [
    "df['age'] = df['age'].astype('Int64')\n",
    "df['score'] = df['score'].astype('Int64')"
   ]
  },
  {
   "cell_type": "markdown",
   "metadata": {},
   "source": [
    "<a id='section2_4'></a>"
   ]
  },
  {
   "cell_type": "markdown",
   "metadata": {},
   "source": [
    "### Обработка  дубликатов"
   ]
  },
  {
   "cell_type": "code",
   "execution_count": 7,
   "metadata": {},
   "outputs": [
    {
     "data": {
      "text/plain": [
       "0"
      ]
     },
     "execution_count": 7,
     "metadata": {},
     "output_type": "execute_result"
    }
   ],
   "source": [
    "#проверим наличие явных дубликатов\n",
    "df.duplicated().sum()"
   ]
  },
  {
   "cell_type": "markdown",
   "metadata": {},
   "source": [
    "Явных дубликатов не обнаружено"
   ]
  },
  {
   "cell_type": "code",
   "execution_count": 8,
   "metadata": {},
   "outputs": [
    {
     "data": {
      "text/html": [
       "<div>\n",
       "<style scoped>\n",
       "    .dataframe tbody tr th:only-of-type {\n",
       "        vertical-align: middle;\n",
       "    }\n",
       "\n",
       "    .dataframe tbody tr th {\n",
       "        vertical-align: top;\n",
       "    }\n",
       "\n",
       "    .dataframe thead th {\n",
       "        text-align: right;\n",
       "    }\n",
       "</style>\n",
       "<table border=\"1\" class=\"dataframe\">\n",
       "  <thead>\n",
       "    <tr style=\"text-align: right;\">\n",
       "      <th></th>\n",
       "      <th>user_id</th>\n",
       "      <th>score</th>\n",
       "      <th>city</th>\n",
       "      <th>gender</th>\n",
       "      <th>age</th>\n",
       "      <th>equity</th>\n",
       "      <th>balance</th>\n",
       "      <th>products</th>\n",
       "      <th>credit_card</th>\n",
       "      <th>last_activity</th>\n",
       "      <th>est_salary</th>\n",
       "      <th>churn</th>\n",
       "    </tr>\n",
       "  </thead>\n",
       "  <tbody>\n",
       "    <tr>\n",
       "      <th>1893</th>\n",
       "      <td>116540</td>\n",
       "      <td>883</td>\n",
       "      <td>Рыбинск</td>\n",
       "      <td>Ж</td>\n",
       "      <td>55</td>\n",
       "      <td>1</td>\n",
       "      <td>362,756.49</td>\n",
       "      <td>3</td>\n",
       "      <td>0</td>\n",
       "      <td>1</td>\n",
       "      <td>175,920.48</td>\n",
       "      <td>1</td>\n",
       "    </tr>\n",
       "    <tr>\n",
       "      <th>7694</th>\n",
       "      <td>116540</td>\n",
       "      <td>887</td>\n",
       "      <td>Ярославль</td>\n",
       "      <td>Ж</td>\n",
       "      <td>38</td>\n",
       "      <td>0</td>\n",
       "      <td>NaN</td>\n",
       "      <td>1</td>\n",
       "      <td>0</td>\n",
       "      <td>1</td>\n",
       "      <td>119,247.61</td>\n",
       "      <td>0</td>\n",
       "    </tr>\n",
       "    <tr>\n",
       "      <th>7542</th>\n",
       "      <td>117943</td>\n",
       "      <td>880</td>\n",
       "      <td>Ярославль</td>\n",
       "      <td>Ж</td>\n",
       "      <td>40</td>\n",
       "      <td>0</td>\n",
       "      <td>NaN</td>\n",
       "      <td>1</td>\n",
       "      <td>1</td>\n",
       "      <td>0</td>\n",
       "      <td>137,718.93</td>\n",
       "      <td>0</td>\n",
       "    </tr>\n",
       "    <tr>\n",
       "      <th>4866</th>\n",
       "      <td>117943</td>\n",
       "      <td>855</td>\n",
       "      <td>Рыбинск</td>\n",
       "      <td>Ж</td>\n",
       "      <td>32</td>\n",
       "      <td>6</td>\n",
       "      <td>1,036,832.93</td>\n",
       "      <td>4</td>\n",
       "      <td>1</td>\n",
       "      <td>1</td>\n",
       "      <td>107,792.71</td>\n",
       "      <td>1</td>\n",
       "    </tr>\n",
       "    <tr>\n",
       "      <th>5896</th>\n",
       "      <td>120258</td>\n",
       "      <td>905</td>\n",
       "      <td>Ярославль</td>\n",
       "      <td>М</td>\n",
       "      <td>30</td>\n",
       "      <td>0</td>\n",
       "      <td>NaN</td>\n",
       "      <td>1</td>\n",
       "      <td>1</td>\n",
       "      <td>1</td>\n",
       "      <td>146,427.96</td>\n",
       "      <td>0</td>\n",
       "    </tr>\n",
       "    <tr>\n",
       "      <th>...</th>\n",
       "      <td>...</td>\n",
       "      <td>...</td>\n",
       "      <td>...</td>\n",
       "      <td>...</td>\n",
       "      <td>...</td>\n",
       "      <td>...</td>\n",
       "      <td>...</td>\n",
       "      <td>...</td>\n",
       "      <td>...</td>\n",
       "      <td>...</td>\n",
       "      <td>...</td>\n",
       "      <td>...</td>\n",
       "    </tr>\n",
       "    <tr>\n",
       "      <th>2597</th>\n",
       "      <td>226719</td>\n",
       "      <td>990</td>\n",
       "      <td>Ярославль</td>\n",
       "      <td>М</td>\n",
       "      <td>37</td>\n",
       "      <td>4</td>\n",
       "      <td>14,648,692.14</td>\n",
       "      <td>2</td>\n",
       "      <td>0</td>\n",
       "      <td>0</td>\n",
       "      <td>934,412.61</td>\n",
       "      <td>1</td>\n",
       "    </tr>\n",
       "    <tr>\n",
       "      <th>8205</th>\n",
       "      <td>227795</td>\n",
       "      <td>840</td>\n",
       "      <td>Рыбинск</td>\n",
       "      <td>М</td>\n",
       "      <td>34</td>\n",
       "      <td>2</td>\n",
       "      <td>350,768.03</td>\n",
       "      <td>1</td>\n",
       "      <td>1</td>\n",
       "      <td>0</td>\n",
       "      <td>102,036.14</td>\n",
       "      <td>1</td>\n",
       "    </tr>\n",
       "    <tr>\n",
       "      <th>8497</th>\n",
       "      <td>227795</td>\n",
       "      <td>839</td>\n",
       "      <td>Ярославль</td>\n",
       "      <td>М</td>\n",
       "      <td>34</td>\n",
       "      <td>2</td>\n",
       "      <td>326,593.14</td>\n",
       "      <td>2</td>\n",
       "      <td>1</td>\n",
       "      <td>0</td>\n",
       "      <td>103,314.92</td>\n",
       "      <td>0</td>\n",
       "    </tr>\n",
       "    <tr>\n",
       "      <th>6457</th>\n",
       "      <td>228075</td>\n",
       "      <td>839</td>\n",
       "      <td>Рыбинск</td>\n",
       "      <td>М</td>\n",
       "      <td>39</td>\n",
       "      <td>5</td>\n",
       "      <td>507,199.85</td>\n",
       "      <td>3</td>\n",
       "      <td>0</td>\n",
       "      <td>1</td>\n",
       "      <td>85,195.80</td>\n",
       "      <td>0</td>\n",
       "    </tr>\n",
       "    <tr>\n",
       "      <th>1247</th>\n",
       "      <td>228075</td>\n",
       "      <td>932</td>\n",
       "      <td>Ярославль</td>\n",
       "      <td>М</td>\n",
       "      <td>&lt;NA&gt;</td>\n",
       "      <td>5</td>\n",
       "      <td>7,601,719.20</td>\n",
       "      <td>2</td>\n",
       "      <td>1</td>\n",
       "      <td>1</td>\n",
       "      <td>408,121.16</td>\n",
       "      <td>0</td>\n",
       "    </tr>\n",
       "  </tbody>\n",
       "</table>\n",
       "<p>146 rows × 12 columns</p>\n",
       "</div>"
      ],
      "text/plain": [
       "      user_id  score       city gender   age  equity       balance  products  \\\n",
       "1893   116540    883    Рыбинск      Ж    55       1    362,756.49         3   \n",
       "7694   116540    887  Ярославль      Ж    38       0           NaN         1   \n",
       "7542   117943    880  Ярославль      Ж    40       0           NaN         1   \n",
       "4866   117943    855    Рыбинск      Ж    32       6  1,036,832.93         4   \n",
       "5896   120258    905  Ярославль      М    30       0           NaN         1   \n",
       "...       ...    ...        ...    ...   ...     ...           ...       ...   \n",
       "2597   226719    990  Ярославль      М    37       4 14,648,692.14         2   \n",
       "8205   227795    840    Рыбинск      М    34       2    350,768.03         1   \n",
       "8497   227795    839  Ярославль      М    34       2    326,593.14         2   \n",
       "6457   228075    839    Рыбинск      М    39       5    507,199.85         3   \n",
       "1247   228075    932  Ярославль      М  <NA>       5  7,601,719.20         2   \n",
       "\n",
       "      credit_card  last_activity  est_salary  churn  \n",
       "1893            0              1  175,920.48      1  \n",
       "7694            0              1  119,247.61      0  \n",
       "7542            1              0  137,718.93      0  \n",
       "4866            1              1  107,792.71      1  \n",
       "5896            1              1  146,427.96      0  \n",
       "...           ...            ...         ...    ...  \n",
       "2597            0              0  934,412.61      1  \n",
       "8205            1              0  102,036.14      1  \n",
       "8497            1              0  103,314.92      0  \n",
       "6457            0              1   85,195.80      0  \n",
       "1247            1              1  408,121.16      0  \n",
       "\n",
       "[146 rows x 12 columns]"
      ]
     },
     "execution_count": 8,
     "metadata": {},
     "output_type": "execute_result"
    }
   ],
   "source": [
    "#проверим наличие неявных дубликатов\n",
    "df[df.duplicated(subset=['user_id'], keep=False)].sort_values(by='user_id')"
   ]
  },
  {
   "cell_type": "markdown",
   "metadata": {},
   "source": [
    "При анализе списка клиентов становится очевидным, что несмотря на совпадение ID, это разные клиенты. Их пол, возраст, баланс и размер зарплаты различаются. Замечено, что среди дубликатов встречаются только города Ярославль и Рыбинск(Ярославская область). Вероятно, имеет место техническая неполадка при присвоении ID в этом регионе. Оставим без изменений. "
   ]
  },
  {
   "cell_type": "markdown",
   "metadata": {},
   "source": [
    "***Промежуточные выводы:***\n",
    "\n",
    "Данные, в целом, кажутся хорошо структурированными, представляют собой набор из 10 000 записей клиентов с различной информацией о них. \n",
    "\n",
    "На основании полученного результата можно сделать следующие выводы: \n",
    "\n",
    "- Всего 12 колонок, с различными типами данных. На данном этапе тип данных поменяли только в столбцах \"age\" и \"score\", привели к целочисленным значениям. \n",
    "\n",
    "\n",
    "- Исследование будет проводиться по трем городам : 'Рыбинск' 'Ярославль' 'Ростов'.\n",
    "\n",
    "\n",
    "- У нас имеются два столбца с номинальными категориальными переменными — \"gender\" и \"city\". В последующем этапе предобработки данных будем использовать , one-hot кодирование для конвертации этих переменных в бинарные столбцы, для корректного анализа. \n",
    "\n",
    "\n",
    "- Есть пропущенные значения  в колонках \"balance\" (22.95%) и \"age\" (0.26%). Прежде чем принимать решение о том, что делать с этими пропусками, проведем дополнительный анализ возможных причин их возникновения , на следующем этапе исследования.\n",
    "\n",
    "\n",
    "- Отток клиентов составляет 18%, что является сигналом для заказчика, рассмотреть стратегии по удержанию клиентов.\n",
    "\n",
    "\n",
    "- Явные и неявные отсутствуют, что упрощает дальнейший анализ данных. \n",
    "\n",
    "\n",
    "- Предварительно можно сказать о наличии выбросов в столбцах \"balance\", \"est_salary\" и \"products\". Обосновать это можно тем, что максимальные значения значительно выше  75-го  процентиля . Далее проанализируем припроду возникновения этих быбросов и примем решение что с ними делать дальше. "
   ]
  },
  {
   "cell_type": "markdown",
   "metadata": {},
   "source": [
    "<a id='section2_5'></a>"
   ]
  },
  {
   "cell_type": "markdown",
   "metadata": {},
   "source": [
    "### Анализ пропущенных значений "
   ]
  },
  {
   "cell_type": "markdown",
   "metadata": {},
   "source": [
    "Изучим пропущенные значения в столбце \"age\" . Доля пропусков - 0.26%  от общего объема информации, это 26 строк из 10 000. \n"
   ]
  },
  {
   "cell_type": "code",
   "execution_count": 9,
   "metadata": {},
   "outputs": [
    {
     "data": {
      "text/html": [
       "<div>\n",
       "<style scoped>\n",
       "    .dataframe tbody tr th:only-of-type {\n",
       "        vertical-align: middle;\n",
       "    }\n",
       "\n",
       "    .dataframe tbody tr th {\n",
       "        vertical-align: top;\n",
       "    }\n",
       "\n",
       "    .dataframe thead th {\n",
       "        text-align: right;\n",
       "    }\n",
       "</style>\n",
       "<table border=\"1\" class=\"dataframe\">\n",
       "  <thead>\n",
       "    <tr style=\"text-align: right;\">\n",
       "      <th></th>\n",
       "      <th>user_id</th>\n",
       "      <th>score</th>\n",
       "      <th>city</th>\n",
       "      <th>gender</th>\n",
       "      <th>age</th>\n",
       "      <th>equity</th>\n",
       "      <th>balance</th>\n",
       "      <th>products</th>\n",
       "      <th>credit_card</th>\n",
       "      <th>last_activity</th>\n",
       "      <th>est_salary</th>\n",
       "      <th>churn</th>\n",
       "    </tr>\n",
       "  </thead>\n",
       "  <tbody>\n",
       "    <tr>\n",
       "      <th>1247</th>\n",
       "      <td>228075</td>\n",
       "      <td>932</td>\n",
       "      <td>Ярославль</td>\n",
       "      <td>М</td>\n",
       "      <td>&lt;NA&gt;</td>\n",
       "      <td>5</td>\n",
       "      <td>7,601,719.20</td>\n",
       "      <td>2</td>\n",
       "      <td>1</td>\n",
       "      <td>1</td>\n",
       "      <td>408,121.16</td>\n",
       "      <td>0</td>\n",
       "    </tr>\n",
       "    <tr>\n",
       "      <th>2165</th>\n",
       "      <td>187635</td>\n",
       "      <td>692</td>\n",
       "      <td>Рыбинск</td>\n",
       "      <td>Ж</td>\n",
       "      <td>&lt;NA&gt;</td>\n",
       "      <td>0</td>\n",
       "      <td>NaN</td>\n",
       "      <td>1</td>\n",
       "      <td>1</td>\n",
       "      <td>1</td>\n",
       "      <td>160,368.82</td>\n",
       "      <td>0</td>\n",
       "    </tr>\n",
       "    <tr>\n",
       "      <th>2444</th>\n",
       "      <td>221156</td>\n",
       "      <td>913</td>\n",
       "      <td>Ярославль</td>\n",
       "      <td>М</td>\n",
       "      <td>&lt;NA&gt;</td>\n",
       "      <td>0</td>\n",
       "      <td>NaN</td>\n",
       "      <td>1</td>\n",
       "      <td>1</td>\n",
       "      <td>1</td>\n",
       "      <td>135,693.24</td>\n",
       "      <td>0</td>\n",
       "    </tr>\n",
       "    <tr>\n",
       "      <th>3091</th>\n",
       "      <td>138660</td>\n",
       "      <td>836</td>\n",
       "      <td>Ростов</td>\n",
       "      <td>Ж</td>\n",
       "      <td>&lt;NA&gt;</td>\n",
       "      <td>5</td>\n",
       "      <td>294,315.53</td>\n",
       "      <td>2</td>\n",
       "      <td>0</td>\n",
       "      <td>1</td>\n",
       "      <td>63,310.22</td>\n",
       "      <td>1</td>\n",
       "    </tr>\n",
       "    <tr>\n",
       "      <th>4912</th>\n",
       "      <td>210674</td>\n",
       "      <td>834</td>\n",
       "      <td>Рыбинск</td>\n",
       "      <td>М</td>\n",
       "      <td>&lt;NA&gt;</td>\n",
       "      <td>1</td>\n",
       "      <td>238,330.52</td>\n",
       "      <td>2</td>\n",
       "      <td>0</td>\n",
       "      <td>1</td>\n",
       "      <td>93,775.06</td>\n",
       "      <td>0</td>\n",
       "    </tr>\n",
       "    <tr>\n",
       "      <th>5470</th>\n",
       "      <td>218868</td>\n",
       "      <td>827</td>\n",
       "      <td>Рыбинск</td>\n",
       "      <td>Ж</td>\n",
       "      <td>&lt;NA&gt;</td>\n",
       "      <td>4</td>\n",
       "      <td>448,959.07</td>\n",
       "      <td>2</td>\n",
       "      <td>1</td>\n",
       "      <td>1</td>\n",
       "      <td>67,835.95</td>\n",
       "      <td>0</td>\n",
       "    </tr>\n",
       "    <tr>\n",
       "      <th>5495</th>\n",
       "      <td>151662</td>\n",
       "      <td>884</td>\n",
       "      <td>Рыбинск</td>\n",
       "      <td>Ж</td>\n",
       "      <td>&lt;NA&gt;</td>\n",
       "      <td>0</td>\n",
       "      <td>NaN</td>\n",
       "      <td>1</td>\n",
       "      <td>1</td>\n",
       "      <td>1</td>\n",
       "      <td>137,500.77</td>\n",
       "      <td>0</td>\n",
       "    </tr>\n",
       "    <tr>\n",
       "      <th>7236</th>\n",
       "      <td>210135</td>\n",
       "      <td>908</td>\n",
       "      <td>Рыбинск</td>\n",
       "      <td>Ж</td>\n",
       "      <td>&lt;NA&gt;</td>\n",
       "      <td>4</td>\n",
       "      <td>1,120,340.31</td>\n",
       "      <td>3</td>\n",
       "      <td>1</td>\n",
       "      <td>1</td>\n",
       "      <td>85,002.15</td>\n",
       "      <td>0</td>\n",
       "    </tr>\n",
       "    <tr>\n",
       "      <th>7248</th>\n",
       "      <td>219343</td>\n",
       "      <td>920</td>\n",
       "      <td>Рыбинск</td>\n",
       "      <td>Ж</td>\n",
       "      <td>&lt;NA&gt;</td>\n",
       "      <td>0</td>\n",
       "      <td>NaN</td>\n",
       "      <td>1</td>\n",
       "      <td>1</td>\n",
       "      <td>0</td>\n",
       "      <td>159,248.67</td>\n",
       "      <td>0</td>\n",
       "    </tr>\n",
       "    <tr>\n",
       "      <th>7345</th>\n",
       "      <td>184913</td>\n",
       "      <td>829</td>\n",
       "      <td>Ярославль</td>\n",
       "      <td>Ж</td>\n",
       "      <td>&lt;NA&gt;</td>\n",
       "      <td>3</td>\n",
       "      <td>188,648.77</td>\n",
       "      <td>2</td>\n",
       "      <td>0</td>\n",
       "      <td>1</td>\n",
       "      <td>75,206.90</td>\n",
       "      <td>0</td>\n",
       "    </tr>\n",
       "    <tr>\n",
       "      <th>7409</th>\n",
       "      <td>214031</td>\n",
       "      <td>777</td>\n",
       "      <td>Ярославль</td>\n",
       "      <td>М</td>\n",
       "      <td>&lt;NA&gt;</td>\n",
       "      <td>2</td>\n",
       "      <td>171,510.23</td>\n",
       "      <td>1</td>\n",
       "      <td>1</td>\n",
       "      <td>1</td>\n",
       "      <td>75,409.63</td>\n",
       "      <td>0</td>\n",
       "    </tr>\n",
       "    <tr>\n",
       "      <th>8015</th>\n",
       "      <td>198635</td>\n",
       "      <td>670</td>\n",
       "      <td>Ярославль</td>\n",
       "      <td>Ж</td>\n",
       "      <td>&lt;NA&gt;</td>\n",
       "      <td>0</td>\n",
       "      <td>NaN</td>\n",
       "      <td>1</td>\n",
       "      <td>1</td>\n",
       "      <td>1</td>\n",
       "      <td>168,699.33</td>\n",
       "      <td>0</td>\n",
       "    </tr>\n",
       "    <tr>\n",
       "      <th>8070</th>\n",
       "      <td>226550</td>\n",
       "      <td>940</td>\n",
       "      <td>Рыбинск</td>\n",
       "      <td>М</td>\n",
       "      <td>&lt;NA&gt;</td>\n",
       "      <td>0</td>\n",
       "      <td>NaN</td>\n",
       "      <td>1</td>\n",
       "      <td>0</td>\n",
       "      <td>1</td>\n",
       "      <td>147,696.95</td>\n",
       "      <td>0</td>\n",
       "    </tr>\n",
       "    <tr>\n",
       "      <th>8293</th>\n",
       "      <td>216848</td>\n",
       "      <td>930</td>\n",
       "      <td>Ярославль</td>\n",
       "      <td>М</td>\n",
       "      <td>&lt;NA&gt;</td>\n",
       "      <td>0</td>\n",
       "      <td>NaN</td>\n",
       "      <td>1</td>\n",
       "      <td>1</td>\n",
       "      <td>1</td>\n",
       "      <td>199,542.51</td>\n",
       "      <td>0</td>\n",
       "    </tr>\n",
       "    <tr>\n",
       "      <th>8385</th>\n",
       "      <td>206759</td>\n",
       "      <td>915</td>\n",
       "      <td>Рыбинск</td>\n",
       "      <td>М</td>\n",
       "      <td>&lt;NA&gt;</td>\n",
       "      <td>0</td>\n",
       "      <td>NaN</td>\n",
       "      <td>1</td>\n",
       "      <td>1</td>\n",
       "      <td>0</td>\n",
       "      <td>71,179.53</td>\n",
       "      <td>0</td>\n",
       "    </tr>\n",
       "    <tr>\n",
       "      <th>8449</th>\n",
       "      <td>210898</td>\n",
       "      <td>805</td>\n",
       "      <td>Ярославль</td>\n",
       "      <td>Ж</td>\n",
       "      <td>&lt;NA&gt;</td>\n",
       "      <td>0</td>\n",
       "      <td>NaN</td>\n",
       "      <td>1</td>\n",
       "      <td>0</td>\n",
       "      <td>1</td>\n",
       "      <td>922,080.25</td>\n",
       "      <td>0</td>\n",
       "    </tr>\n",
       "    <tr>\n",
       "      <th>8632</th>\n",
       "      <td>221197</td>\n",
       "      <td>893</td>\n",
       "      <td>Ярославль</td>\n",
       "      <td>М</td>\n",
       "      <td>&lt;NA&gt;</td>\n",
       "      <td>0</td>\n",
       "      <td>NaN</td>\n",
       "      <td>1</td>\n",
       "      <td>1</td>\n",
       "      <td>0</td>\n",
       "      <td>173,929.92</td>\n",
       "      <td>0</td>\n",
       "    </tr>\n",
       "    <tr>\n",
       "      <th>8785</th>\n",
       "      <td>127440</td>\n",
       "      <td>663</td>\n",
       "      <td>Ярославль</td>\n",
       "      <td>М</td>\n",
       "      <td>&lt;NA&gt;</td>\n",
       "      <td>0</td>\n",
       "      <td>NaN</td>\n",
       "      <td>1</td>\n",
       "      <td>1</td>\n",
       "      <td>1</td>\n",
       "      <td>117,197.56</td>\n",
       "      <td>0</td>\n",
       "    </tr>\n",
       "    <tr>\n",
       "      <th>9104</th>\n",
       "      <td>222480</td>\n",
       "      <td>776</td>\n",
       "      <td>Рыбинск</td>\n",
       "      <td>Ж</td>\n",
       "      <td>&lt;NA&gt;</td>\n",
       "      <td>5</td>\n",
       "      <td>796,735.09</td>\n",
       "      <td>1</td>\n",
       "      <td>1</td>\n",
       "      <td>1</td>\n",
       "      <td>55,073.63</td>\n",
       "      <td>0</td>\n",
       "    </tr>\n",
       "    <tr>\n",
       "      <th>9301</th>\n",
       "      <td>202983</td>\n",
       "      <td>942</td>\n",
       "      <td>Рыбинск</td>\n",
       "      <td>Ж</td>\n",
       "      <td>&lt;NA&gt;</td>\n",
       "      <td>0</td>\n",
       "      <td>NaN</td>\n",
       "      <td>1</td>\n",
       "      <td>1</td>\n",
       "      <td>1</td>\n",
       "      <td>163,804.73</td>\n",
       "      <td>0</td>\n",
       "    </tr>\n",
       "    <tr>\n",
       "      <th>9380</th>\n",
       "      <td>187459</td>\n",
       "      <td>894</td>\n",
       "      <td>Рыбинск</td>\n",
       "      <td>М</td>\n",
       "      <td>&lt;NA&gt;</td>\n",
       "      <td>0</td>\n",
       "      <td>NaN</td>\n",
       "      <td>1</td>\n",
       "      <td>1</td>\n",
       "      <td>0</td>\n",
       "      <td>178,012.28</td>\n",
       "      <td>0</td>\n",
       "    </tr>\n",
       "    <tr>\n",
       "      <th>9457</th>\n",
       "      <td>141945</td>\n",
       "      <td>929</td>\n",
       "      <td>Ярославль</td>\n",
       "      <td>М</td>\n",
       "      <td>&lt;NA&gt;</td>\n",
       "      <td>0</td>\n",
       "      <td>NaN</td>\n",
       "      <td>1</td>\n",
       "      <td>1</td>\n",
       "      <td>0</td>\n",
       "      <td>381,868.89</td>\n",
       "      <td>0</td>\n",
       "    </tr>\n",
       "    <tr>\n",
       "      <th>9632</th>\n",
       "      <td>185829</td>\n",
       "      <td>927</td>\n",
       "      <td>Ярославль</td>\n",
       "      <td>М</td>\n",
       "      <td>&lt;NA&gt;</td>\n",
       "      <td>0</td>\n",
       "      <td>NaN</td>\n",
       "      <td>1</td>\n",
       "      <td>1</td>\n",
       "      <td>0</td>\n",
       "      <td>231,254.86</td>\n",
       "      <td>0</td>\n",
       "    </tr>\n",
       "    <tr>\n",
       "      <th>9634</th>\n",
       "      <td>221809</td>\n",
       "      <td>917</td>\n",
       "      <td>Ярославль</td>\n",
       "      <td>М</td>\n",
       "      <td>&lt;NA&gt;</td>\n",
       "      <td>0</td>\n",
       "      <td>NaN</td>\n",
       "      <td>1</td>\n",
       "      <td>1</td>\n",
       "      <td>1</td>\n",
       "      <td>192,644.15</td>\n",
       "      <td>0</td>\n",
       "    </tr>\n",
       "    <tr>\n",
       "      <th>9667</th>\n",
       "      <td>163657</td>\n",
       "      <td>849</td>\n",
       "      <td>Ярославль</td>\n",
       "      <td>М</td>\n",
       "      <td>&lt;NA&gt;</td>\n",
       "      <td>4</td>\n",
       "      <td>1,254,013.85</td>\n",
       "      <td>2</td>\n",
       "      <td>1</td>\n",
       "      <td>1</td>\n",
       "      <td>119,106.67</td>\n",
       "      <td>0</td>\n",
       "    </tr>\n",
       "    <tr>\n",
       "      <th>9819</th>\n",
       "      <td>140934</td>\n",
       "      <td>832</td>\n",
       "      <td>Рыбинск</td>\n",
       "      <td>Ж</td>\n",
       "      <td>&lt;NA&gt;</td>\n",
       "      <td>3</td>\n",
       "      <td>385,763.16</td>\n",
       "      <td>2</td>\n",
       "      <td>0</td>\n",
       "      <td>1</td>\n",
       "      <td>59,651.35</td>\n",
       "      <td>0</td>\n",
       "    </tr>\n",
       "  </tbody>\n",
       "</table>\n",
       "</div>"
      ],
      "text/plain": [
       "      user_id  score       city gender   age  equity      balance  products  \\\n",
       "1247   228075    932  Ярославль      М  <NA>       5 7,601,719.20         2   \n",
       "2165   187635    692    Рыбинск      Ж  <NA>       0          NaN         1   \n",
       "2444   221156    913  Ярославль      М  <NA>       0          NaN         1   \n",
       "3091   138660    836     Ростов      Ж  <NA>       5   294,315.53         2   \n",
       "4912   210674    834    Рыбинск      М  <NA>       1   238,330.52         2   \n",
       "5470   218868    827    Рыбинск      Ж  <NA>       4   448,959.07         2   \n",
       "5495   151662    884    Рыбинск      Ж  <NA>       0          NaN         1   \n",
       "7236   210135    908    Рыбинск      Ж  <NA>       4 1,120,340.31         3   \n",
       "7248   219343    920    Рыбинск      Ж  <NA>       0          NaN         1   \n",
       "7345   184913    829  Ярославль      Ж  <NA>       3   188,648.77         2   \n",
       "7409   214031    777  Ярославль      М  <NA>       2   171,510.23         1   \n",
       "8015   198635    670  Ярославль      Ж  <NA>       0          NaN         1   \n",
       "8070   226550    940    Рыбинск      М  <NA>       0          NaN         1   \n",
       "8293   216848    930  Ярославль      М  <NA>       0          NaN         1   \n",
       "8385   206759    915    Рыбинск      М  <NA>       0          NaN         1   \n",
       "8449   210898    805  Ярославль      Ж  <NA>       0          NaN         1   \n",
       "8632   221197    893  Ярославль      М  <NA>       0          NaN         1   \n",
       "8785   127440    663  Ярославль      М  <NA>       0          NaN         1   \n",
       "9104   222480    776    Рыбинск      Ж  <NA>       5   796,735.09         1   \n",
       "9301   202983    942    Рыбинск      Ж  <NA>       0          NaN         1   \n",
       "9380   187459    894    Рыбинск      М  <NA>       0          NaN         1   \n",
       "9457   141945    929  Ярославль      М  <NA>       0          NaN         1   \n",
       "9632   185829    927  Ярославль      М  <NA>       0          NaN         1   \n",
       "9634   221809    917  Ярославль      М  <NA>       0          NaN         1   \n",
       "9667   163657    849  Ярославль      М  <NA>       4 1,254,013.85         2   \n",
       "9819   140934    832    Рыбинск      Ж  <NA>       3   385,763.16         2   \n",
       "\n",
       "      credit_card  last_activity  est_salary  churn  \n",
       "1247            1              1  408,121.16      0  \n",
       "2165            1              1  160,368.82      0  \n",
       "2444            1              1  135,693.24      0  \n",
       "3091            0              1   63,310.22      1  \n",
       "4912            0              1   93,775.06      0  \n",
       "5470            1              1   67,835.95      0  \n",
       "5495            1              1  137,500.77      0  \n",
       "7236            1              1   85,002.15      0  \n",
       "7248            1              0  159,248.67      0  \n",
       "7345            0              1   75,206.90      0  \n",
       "7409            1              1   75,409.63      0  \n",
       "8015            1              1  168,699.33      0  \n",
       "8070            0              1  147,696.95      0  \n",
       "8293            1              1  199,542.51      0  \n",
       "8385            1              0   71,179.53      0  \n",
       "8449            0              1  922,080.25      0  \n",
       "8632            1              0  173,929.92      0  \n",
       "8785            1              1  117,197.56      0  \n",
       "9104            1              1   55,073.63      0  \n",
       "9301            1              1  163,804.73      0  \n",
       "9380            1              0  178,012.28      0  \n",
       "9457            1              0  381,868.89      0  \n",
       "9632            1              0  231,254.86      0  \n",
       "9634            1              1  192,644.15      0  \n",
       "9667            1              1  119,106.67      0  \n",
       "9819            0              1   59,651.35      0  "
      ]
     },
     "execution_count": 9,
     "metadata": {},
     "output_type": "execute_result"
    }
   ],
   "source": [
    "df[df['age'].isna()]"
   ]
  },
  {
   "cell_type": "markdown",
   "metadata": {},
   "source": [
    "Наблюдается явная связь между пропущенными значениями в \"age\" и городами Ярославль и Рыбинск.  \n",
    "С учетом предыдущего анализа неявных дубликатов (где была выявлена проблема с ID клиентов в этом же регионе), можно предположить, что в этих филиалах существуют технические проблемы : перенос данных, интеграция БД, проблемы с сетью, некорректное завершение верификации при при онлайн регистрации.  \n",
    "Но не стоит забывать и о человеческом факторе: ошибки ввода , забывчивость/невнимательность сотрудников. Можно еще рассмотреть вариант \"Нежелание предоставлять информацию\", но если учитывать тот факт что у всех этих клиентов есть продукты банка, вероятнее всего предоставлялся паспорт для оформления продуктов и данные должны были быть введены. \n",
    "\n",
    "Таким образом пропуски в столбце \"age\" можно отнести к категории **MNAR** (Missing Not At Random) - \"Пропуски, не случайные\". \n",
    "\n",
    "Получить достоверную информацию и разьяснения, не представляется возможным, а доля пропусков очень мала. Наиболее разумным решением , на мой взгляд, будет удаление строк с пропущенными значениями  \"age\". Это позволит обеспечить качество данных для дальнейшего анализа и избежать потенциальных искажений."
   ]
  },
  {
   "cell_type": "code",
   "execution_count": 10,
   "metadata": {},
   "outputs": [],
   "source": [
    "# удалим пропущенные значения в столбце \"age\"\n",
    "df = df.dropna(subset=['age']).reset_index(drop=True) "
   ]
  },
  {
   "cell_type": "markdown",
   "metadata": {},
   "source": [
    "Приступим к анализу пропущенных значений в столбце \"balance\".  \n",
    "Так как их доля составляет почти 23%, для классификации необходимо проверить зависимость пропусков от других признаков. \n",
    "Посмотрим как распределились пропуски по городам. Есть вероятность , что по столбцу \"balance\" пропуски будут преобладать по Ярославской области. "
   ]
  },
  {
   "cell_type": "code",
   "execution_count": 10,
   "metadata": {},
   "outputs": [
    {
     "data": {
      "text/plain": [
       "city\n",
       "Ростов        235\n",
       "Рыбинск       593\n",
       "Ярославль    1467\n",
       "dtype: int64"
      ]
     },
     "execution_count": 10,
     "metadata": {},
     "output_type": "execute_result"
    }
   ],
   "source": [
    "df[df['balance'].isnull()].groupby('city').size()"
   ]
  },
  {
   "cell_type": "markdown",
   "metadata": {},
   "source": [
    "Ожидания подтвердились , Ярославь лидирует по количеству пропускав , а Рыбинск на втором месте. Проверим зависимость этих пропусков от  других признаков.\n",
    "\n",
    "Создадим новый бинарный признак: 1- пропущенные значения есть; 0- пропущенных значений нет. Далее по этому признаку построим сводную таблицу , которая будет отображать наличие или отсутствие зависимости пропусков от данных. "
   ]
  },
  {
   "cell_type": "code",
   "execution_count": 11,
   "metadata": {},
   "outputs": [
    {
     "data": {
      "text/html": [
       "<div>\n",
       "<style scoped>\n",
       "    .dataframe tbody tr th:only-of-type {\n",
       "        vertical-align: middle;\n",
       "    }\n",
       "\n",
       "    .dataframe tbody tr th {\n",
       "        vertical-align: top;\n",
       "    }\n",
       "\n",
       "    .dataframe thead th {\n",
       "        text-align: right;\n",
       "    }\n",
       "</style>\n",
       "<table border=\"1\" class=\"dataframe\">\n",
       "  <thead>\n",
       "    <tr style=\"text-align: right;\">\n",
       "      <th></th>\n",
       "      <th>Значение не пропущено</th>\n",
       "      <th>Значение пропущено</th>\n",
       "      <th>Относительная разница</th>\n",
       "    </tr>\n",
       "  </thead>\n",
       "  <tbody>\n",
       "    <tr>\n",
       "      <th>Процент оттока</th>\n",
       "      <td>0.23</td>\n",
       "      <td>0.01</td>\n",
       "      <td>-0.98</td>\n",
       "    </tr>\n",
       "    <tr>\n",
       "      <th>Средняя зарплата</th>\n",
       "      <td>124,501.87</td>\n",
       "      <td>226,310.21</td>\n",
       "      <td>0.82</td>\n",
       "    </tr>\n",
       "    <tr>\n",
       "      <th>Средний возраст</th>\n",
       "      <td>42.92</td>\n",
       "      <td>42.09</td>\n",
       "      <td>-0.02</td>\n",
       "    </tr>\n",
       "    <tr>\n",
       "      <th>Медианное количество продуктов</th>\n",
       "      <td>2.00</td>\n",
       "      <td>1.00</td>\n",
       "      <td>-0.50</td>\n",
       "    </tr>\n",
       "    <tr>\n",
       "      <th>Медианное количество собственности</th>\n",
       "      <td>4.00</td>\n",
       "      <td>0.00</td>\n",
       "      <td>-1.00</td>\n",
       "    </tr>\n",
       "    <tr>\n",
       "      <th>Мода по городу</th>\n",
       "      <td>Ярославль</td>\n",
       "      <td>Ярославль</td>\n",
       "      <td>None</td>\n",
       "    </tr>\n",
       "    <tr>\n",
       "      <th>Мода по полу</th>\n",
       "      <td>Ж</td>\n",
       "      <td>М</td>\n",
       "      <td>None</td>\n",
       "    </tr>\n",
       "  </tbody>\n",
       "</table>\n",
       "</div>"
      ],
      "text/plain": [
       "                                   Значение не пропущено Значение пропущено  \\\n",
       "Процент оттока                                      0.23               0.01   \n",
       "Средняя зарплата                              124,501.87         226,310.21   \n",
       "Средний возраст                                    42.92              42.09   \n",
       "Медианное количество продуктов                      2.00               1.00   \n",
       "Медианное количество собственности                  4.00               0.00   \n",
       "Мода по городу                                 Ярославль          Ярославль   \n",
       "Мода по полу                                           Ж                  М   \n",
       "\n",
       "                                   Относительная разница  \n",
       "Процент оттока                                     -0.98  \n",
       "Средняя зарплата                                    0.82  \n",
       "Средний возраст                                    -0.02  \n",
       "Медианное количество продуктов                     -0.50  \n",
       "Медианное количество собственности                 -1.00  \n",
       "Мода по городу                                      None  \n",
       "Мода по полу                                        None  "
      ]
     },
     "execution_count": 11,
     "metadata": {},
     "output_type": "execute_result"
    }
   ],
   "source": [
    "# Создаем столбец, указывающий, пропущено ли значение balance\n",
    "df['balance_missing'] = df['balance'].isna().astype(int)\n",
    "\n",
    "# Сводные таблицы для числовых столбцов\n",
    "churn_rate = df.groupby('balance_missing')['churn'].mean()\n",
    "avg_salary = df.groupby('balance_missing')['est_salary'].mean()\n",
    "avg_age = df.groupby('balance_missing')['age'].mean()\n",
    "median_products = df.groupby('balance_missing')['products'].median()\n",
    "median_equity = df.groupby('balance_missing')['equity'].median()\n",
    "\n",
    "# Сводные таблицы для категориальных столбцов\n",
    "mode_city = df.groupby('balance_missing')['city'].agg(lambda x: x.mode()[0])\n",
    "mode_gender = df.groupby('balance_missing')['gender'].agg(lambda x: x.mode()[0])\n",
    "\n",
    "\n",
    "\n",
    "# Объединяем все меры центральной тенденции в один датафрейм\n",
    "t = pd.DataFrame({\n",
    "    'Процент оттока': churn_rate,\n",
    "    'Средняя зарплата': avg_salary,\n",
    "    'Средний возраст': avg_age,\n",
    "    'Медианное количество продуктов': median_products,\n",
    "    'Медианное количество собственности': median_equity,\n",
    "    'Мода по городу': mode_city,\n",
    "    'Мода по полу': mode_gender\n",
    "}).T\n",
    "\n",
    "# Добавляем столбец с относительной разницей для числовых столбцов\n",
    "t['Относительная разница'] = None  # По умолчанию ставим None\n",
    "numeric_cols = ['Средняя зарплата', 'Средний возраст', 'Медианное количество продуктов', 'Медианное количество собственности', 'Процент оттока']\n",
    "for col in numeric_cols:\n",
    "    t.at[col, 'Относительная разница'] = (t.at[col, 1] - t.at[col, 0]) / t.at[col, 0]\n",
    "\n",
    "# Переименовываем столбцы\n",
    "t.columns = ['Значение не пропущено', 'Значение пропущено', 'Относительная разница']\n",
    "\n",
    "t"
   ]
  },
  {
   "cell_type": "markdown",
   "metadata": {},
   "source": [
    "Разберем результаты сводной таблицы:\n",
    "\n",
    "- Процент оттока: Относительная разница между этими двумя группами составляет -98%. Это говорит о том, что вероятность оттока среди клиентов с пропущенным значением баланса гораздо меньше, чем среди тех, у кого этот показатель известен.\n",
    "\n",
    "- Средняя зарплата: Есть существенная разница в средней зарплате между клиентами с пропущенными и не пропущенными значениями баланса. Это может указывать на то, что клиенты с более высокой зарплатой имеют большую вероятность иметь пропущенные значения в столбце \"баланс\", возможно предпочитают хранить денежные средства в наличной форме. \n",
    "\n",
    "- Средний возраст: Относительная разница составляет -0.02, что говорит о незначительной разнице в среднем возрасте между клиентами с пропущенными и непропущенными значениями в столбце \"баланс\". Возраст, вероятно, не является значимым фактором для возникновения пропущенных значений в данном столбце.\n",
    "\n",
    "- Медианное количество продуктов: Относительная разница составляет -0.50, что указывает на более низкое количество продуктов у клиентов с пропущенными значениями в \"баланс\", по сравнению с клиентами, у которых значение не пропущено.\n",
    "\n",
    "- Медианное количество собственности: Относительная разница равна -1.00, что говорит о том, что клиенты с пропущенными значениями не имеют никакой собственности. Нет денег - нет собственности. \n",
    "\n",
    "\n",
    "\n",
    "- Город: Город не влияет на пропуски ,но сформированные ранее выводы относительно технических проблем в  Ярославле  и на этом этапе подверждаются. \n",
    "\n",
    "- Пол: Результат говорит о том , что гендерная принадлежность может влиять на внимательность заполнения данных.\n",
    "\n",
    "\n",
    "На основе вышеуказанных данных считаю пропуски можно  классифицировать как __MNAR__ (Missing Not At Random), потому что вероятность пропуска данных зависит от других переменных, таких как процент оттока,  средняя зарплата, количество продуктов и собственности.\n",
    "\n",
    "Интересное и  наблюдение , что клиенты с пропущенным значением баланса демонстрируют гораздо меньший интерес к уходу из банка по сравнению с клиентами, у которых значение баланса известно.  \n",
    "Пропущенное значение баланса связано с какой-то особенностью или услугой банка, которая делает клиентов менее склонными к оттоку. Например, это могут быть новые клиенты, которые еще не начали активное использование услуг банка или клиенты с каким-то специфическим продуктом  которые не требуют наличия баланса, и поэтому баланс не заполнен.\n",
    "\n",
    "Исходя из всего вышеуказанного, считаю что пропуски нужно оставить без изменений и при последующем анализе эту группу клиентов можно анализировать как отдельную группу.   \n",
    "Это позволит сохранить все данные для анализа и получить дополнительную информацию о группе клиентов с пропущенными значениями баланса.\n"
   ]
  },
  {
   "cell_type": "markdown",
   "metadata": {},
   "source": [
    "<a id='section2_6'></a>"
   ]
  },
  {
   "cell_type": "markdown",
   "metadata": {},
   "source": [
    "###  Анализ аномальных значений и выбросов "
   ]
  },
  {
   "cell_type": "markdown",
   "metadata": {},
   "source": [
    "На первом этапе исследования, мы предположили , что  в столбцах \"balance\", \"est_salary\" и \"products\" присутствуют выбросы и/или аномальные значения. Проведем подробный анализ для подтверждения или опровержения нашего  предположения.   "
   ]
  },
  {
   "cell_type": "code",
   "execution_count": 12,
   "metadata": {},
   "outputs": [
    {
     "data": {
      "text/html": [
       "<div>\n",
       "<style scoped>\n",
       "    .dataframe tbody tr th:only-of-type {\n",
       "        vertical-align: middle;\n",
       "    }\n",
       "\n",
       "    .dataframe tbody tr th {\n",
       "        vertical-align: top;\n",
       "    }\n",
       "\n",
       "    .dataframe thead th {\n",
       "        text-align: right;\n",
       "    }\n",
       "</style>\n",
       "<table border=\"1\" class=\"dataframe\">\n",
       "  <thead>\n",
       "    <tr style=\"text-align: right;\">\n",
       "      <th></th>\n",
       "      <th>products</th>\n",
       "      <th>balance</th>\n",
       "      <th>est_salary</th>\n",
       "    </tr>\n",
       "  </thead>\n",
       "  <tbody>\n",
       "    <tr>\n",
       "      <th>count</th>\n",
       "      <td>10,000.00</td>\n",
       "      <td>7,705.00</td>\n",
       "      <td>10,000.00</td>\n",
       "    </tr>\n",
       "    <tr>\n",
       "      <th>mean</th>\n",
       "      <td>1.87</td>\n",
       "      <td>827,794.31</td>\n",
       "      <td>147,866.89</td>\n",
       "    </tr>\n",
       "    <tr>\n",
       "      <th>std</th>\n",
       "      <td>0.79</td>\n",
       "      <td>1,980,614.15</td>\n",
       "      <td>139,388.51</td>\n",
       "    </tr>\n",
       "    <tr>\n",
       "      <th>min</th>\n",
       "      <td>0.00</td>\n",
       "      <td>0.00</td>\n",
       "      <td>2,546.30</td>\n",
       "    </tr>\n",
       "    <tr>\n",
       "      <th>25%</th>\n",
       "      <td>1.00</td>\n",
       "      <td>295,554.16</td>\n",
       "      <td>75,251.90</td>\n",
       "    </tr>\n",
       "    <tr>\n",
       "      <th>50%</th>\n",
       "      <td>2.00</td>\n",
       "      <td>524,272.20</td>\n",
       "      <td>119,658.10</td>\n",
       "    </tr>\n",
       "    <tr>\n",
       "      <th>75%</th>\n",
       "      <td>2.00</td>\n",
       "      <td>980,705.85</td>\n",
       "      <td>174,500.54</td>\n",
       "    </tr>\n",
       "    <tr>\n",
       "      <th>max</th>\n",
       "      <td>5.00</td>\n",
       "      <td>119,113,552.01</td>\n",
       "      <td>1,395,064.45</td>\n",
       "    </tr>\n",
       "  </tbody>\n",
       "</table>\n",
       "</div>"
      ],
      "text/plain": [
       "       products        balance   est_salary\n",
       "count 10,000.00       7,705.00    10,000.00\n",
       "mean       1.87     827,794.31   147,866.89\n",
       "std        0.79   1,980,614.15   139,388.51\n",
       "min        0.00           0.00     2,546.30\n",
       "25%        1.00     295,554.16    75,251.90\n",
       "50%        2.00     524,272.20   119,658.10\n",
       "75%        2.00     980,705.85   174,500.54\n",
       "max        5.00 119,113,552.01 1,395,064.45"
      ]
     },
     "execution_count": 12,
     "metadata": {},
     "output_type": "execute_result"
    }
   ],
   "source": [
    "df[['products','balance', 'est_salary']].describe()"
   ]
  },
  {
   "cell_type": "markdown",
   "metadata": {},
   "source": [
    "Разберем `products`:  \n",
    "\n",
    "Мы наблюдаем разрыв между минимальным и максимальным значением , 0 и 5 соответственно.\n",
    "- 25% всех записей имеют 1 или менее продукта.\n",
    "- Медианное значение (или 50% квартиль) равно 2, что означает, что половина всех клиентов имеют 2 или менее продукта.\n",
    "- 75% всех записей имеют 2 или менее продукта. \n",
    "\n",
    "Проверим количество каждого уникального значения."
   ]
  },
  {
   "cell_type": "code",
   "execution_count": 13,
   "metadata": {},
   "outputs": [
    {
     "data": {
      "text/plain": [
       "products\n",
       "2    5126\n",
       "1    3341\n",
       "3    1039\n",
       "4     474\n",
       "5      19\n",
       "0       1\n",
       "Name: count, dtype: int64"
      ]
     },
     "execution_count": 13,
     "metadata": {},
     "output_type": "execute_result"
    }
   ],
   "source": [
    "df['products'].value_counts()"
   ]
  },
  {
   "cell_type": "markdown",
   "metadata": {},
   "source": [
    "Наиболее распространенное количество продуктов 5119 записей (больше половины всех данных) имеют ровно 2 продукта. Следующий по популярности - 1 продукт.  \n",
    "5 продуктов имеют только 19 клиентов.  \n",
    "И только у дного клиента нет ни одного банковского продукта. \n",
    "\n",
    "Запись с нулевым количеством клиентов мы удалим , так как рассматривать его в контексте бизнеса не имеет смысла.  \n",
    "А вот что касается 19-и клиентов с пятью продуктами, пока оставлю без изменений. "
   ]
  },
  {
   "cell_type": "code",
   "execution_count": 14,
   "metadata": {},
   "outputs": [],
   "source": [
    "df = df[df['products'] != 0]"
   ]
  },
  {
   "cell_type": "markdown",
   "metadata": {},
   "source": [
    "В столбцах 'balance', 'est_salary' значительный разброс между минимальным и максимальным значениями, построим грфик при помощи plotly.express (по умолчанию игнорирует пропущенные значения), для определения аномальных значений. "
   ]
  },
  {
   "cell_type": "code",
   "execution_count": 18,
   "metadata": {
    "scrolled": false
   },
   "outputs": [],
   "source": [
    "# График для баланса\n",
    "#fig_balance = px.violin(df, y=\"balance\", box=True, points=\"all\", "
   ]
  },
  {
   "attachments": {
    "image.png": {
     "image/png": "[encoded data removed]"
    }
   },
   "cell_type": "markdown",
   "metadata": {},
   "source": [
    "![image.png](attachment:image.png)"
   ]
  },
  {
   "cell_type": "markdown",
   "metadata": {},
   "source": [
    "Большинство клиентов имеют баланс в диапазоне от 295 до 980 тысяч, что соответствует 25-му и 75-му процентилям. \n",
    "\n",
    "Наблюдается небольшое количество клиентов с балансом, верхнюю границу в 2 млн. Снижение ядерной оценки плотности (KDE) до 0.001 в этом диапазоне подтверждает редкость таких значений. Эти значения могут отражать особенности определенных клиентских сегментов. Предварительно мы можем классифицировать клиентов с балансом выше верхней границы межквартильного размаха как VIP-клиенты, будем использовать этот критерий при выделении сегментов. \n",
    "\n",
    "Значения, которые находятся ниже первого квартиля, оставим без изменений, так как в этой области плотность распределения баланса клиентов достаточно высока. Корректность данных подтверждается отсутствием отрицательных значений баланса."
   ]
  },
  {
   "cell_type": "code",
   "execution_count": 20,
   "metadata": {
    "scrolled": false
   },
   "outputs": [],
   "source": [
    "# График для зарплаты\n",
    "#fig_salary = px.violin(df, y=\"est_salary\", box=True, points=\"all\", "
   ]
  },
  {
   "attachments": {
    "image.png": {
     "image/png": "[encoded data removed]"
    }
   },
   "cell_type": "markdown",
   "metadata": {},
   "source": [
    "![image.png](attachment:image.png)"
   ]
  },
  {
   "cell_type": "markdown",
   "metadata": {},
   "source": [
    "Большая часть клиентов получает зарплату в диапазоне от 75.3 тыс. до 174.5 тыс., что соответствует 25-му и 75-му процентилям. Медианная зарплата составляет 119.6 тыс., что указывает на то, что половина клиентов получает зарплату до этой суммы.  \n",
    "\n",
    "Наблюдается небольшое количество клиентов с зарплатой, превышающей 323.4 тыс., что может рассматриваться как выбросы на основе анализа ящика с усами. Эти высокие значения могут отражать особенности определенных клиентских сегментов или профессий с высоким уровнем дохода.\n",
    "\n",
    "Наименьшая зарплата составляет 2.5 тыс., что может указывать на неполный рабочий день, студенческие или начальные позиции. Значения, которые находятся ниже первого квартиля, оставим без изменений, так как они попадают в общепринятый диапазон зарплат для большого количества профессий.\n",
    "\n",
    "Максимальная зарплата достигает 1.4 млн. — это выдающиеся значения, которые могут принадлежать топ-менеджерам, успешным предпринимателям или специалистам в высокооплачиваемых отраслях.\n",
    "\n",
    "\n",
    "На данном этапе все оставим без изменений, будем использовать полученную информацию в последующем анализе при формировании сегментов."
   ]
  },
  {
   "cell_type": "markdown",
   "metadata": {},
   "source": [
    "***Промежуточные выводы:***\n",
    "\n",
    "Этап предобработки данных демонстрирует детальный взгляд на структуру данных, их чистоту и основные тенденции. Основной акцент был сделан на предобработке данных: выявление и анализ пропусков, дубликатов, анализ распределений ключевых переменных. Этот этап был выполнен с целью подготовки данных к дальнейшему анализу."
   ]
  },
  {
   "cell_type": "markdown",
   "metadata": {},
   "source": [
    "<a id='section3'></a>"
   ]
  },
  {
   "cell_type": "markdown",
   "metadata": {},
   "source": [
    "## EDA (исследовательский анализ данных)"
   ]
  },
  {
   "cell_type": "markdown",
   "metadata": {},
   "source": [
    "<a id='section3_1'></a>"
   ]
  },
  {
   "cell_type": "markdown",
   "metadata": {},
   "source": [
    "### Анализ портретов клиентов в разрезе оттока"
   ]
  },
  {
   "cell_type": "markdown",
   "metadata": {},
   "source": [
    "Анализ портретов клиентов в разрезе оттока позволит нам глубже понять, какие группы клиентов склонны уходить из банка и какие именно особенности их характеризуют. Основываясь на выявленных особенностях и различиях между группами, мы сможем провести более детализированный анализ взаимодействия различных факторов с оттоком, а также проверить статистические гипотезы о влиянии конкретных признаков на вероятность ухода клиента.\n",
    "\n",
    "Ход анализа:\n",
    "- Сгруппируем данные по статусу оттока и вычислим основные статистики\n",
    "- Сравним портреты клиентов, находящихся в оттоке и не находящихся в оттоке, с целью выявления характерных особенностей и различий между ними\n",
    "- Cравненим характеристики клиентов, склонных и не склонных уходить из банка.\n",
    "- Визуализируем результат для наглядного представления анализа портретов клиентов."
   ]
  },
  {
   "cell_type": "code",
   "execution_count": 20,
   "metadata": {
    "scrolled": false
   },
   "outputs": [],
   "source": [
    "# Разделение датасета на отток и не отток\n",
    "churn_data = df[df['churn'] == 1]\n",
    "no_churn_data = df[df['churn'] == 0]\n",
    "\n",
    "signs_analyze = {\n",
    "    'Средний кредитный рейтинг': 'score',\n",
    "    'Средний возраст': 'age',\n",
    "    'Средний баланс': 'balance',\n",
    "    'Средняя зарплата': 'est_salary',\n",
    "    'Медианное количество продуктов': 'products',\n",
    "    'Медианное количество собственности': 'equity',\n",
    "    'Мода использования кредитной карты': 'credit_card',\n",
    "    'Мода по последней активности': 'last_activity',\n",
    "    'Мода по городу': 'city',\n",
    "    'Мода по полу': 'gender'\n",
    "}\n",
    "\n",
    "# Расчет мер центральной тенденции для расширенного списка признаков\n",
    "t2 = pd.DataFrame(index=signs_analyze.keys(), columns=['Отток', 'Не отток', 'Относительная разница'])\n",
    "\n",
    "# Рассчет для каждой строки\n",
    "for row_name, feature in signs_analyze.items():\n",
    "    \n",
    "    # Для непрерывных признаков с выбросами\n",
    "    if feature in ['balance', 'est_salary']:\n",
    "        churn_mean = churn_data[feature].mean()\n",
    "        no_churn_mean = no_churn_data[feature].mean()\n",
    "        churn_median = churn_data[feature].median()\n",
    "        no_churn_median = no_churn_data[feature].median()\n",
    "        \n",
    "        t2.at[row_name, 'Отток'] = f\"Среднее: {churn_mean:.2f}, Медиана: {churn_median:.2f}\"\n",
    "        t2.at[row_name, 'Не отток'] = f\"Среднее: {no_churn_mean:.2f}, Медиана: {no_churn_median:.2f}\"\n",
    "        t2.at[row_name, 'Относительная разница'] = (churn_mean - no_churn_mean) / no_churn_mean * 100\n",
    "\n",
    "    # Для дискретных и непрерывных признаков без выбросов\n",
    "    elif feature in ['score', 'age']:\n",
    "        churn_mean = churn_data[feature].mean()\n",
    "        no_churn_mean = no_churn_data[feature].mean()\n",
    "        \n",
    "        t2.at[row_name, 'Отток'] = f\"{churn_mean:.2f}\"\n",
    "        t2.at[row_name, 'Не отток'] = f\"{no_churn_mean:.2f}\"\n",
    "        t2.at[row_name, 'Относительная разница'] = (churn_mean - no_churn_mean) / no_churn_mean * 100\n",
    "\n",
    "    # Для дискретных признаков\n",
    "    elif feature in ['products', 'equity']:\n",
    "        churn_median = churn_data[feature].median()\n",
    "        no_churn_median = no_churn_data[feature].median()\n",
    "        \n",
    "        t2.at[row_name, 'Отток'] = f\"{churn_median:.2f}\"\n",
    "        t2.at[row_name, 'Не отток'] = f\"{no_churn_median:.2f}\"\n",
    "\n",
    "    # Для категориальных признаков (не упорядоченных)\n",
    "    else:\n",
    "        churn_mode = churn_data[feature].mode().iloc[0]\n",
    "        no_churn_mode = no_churn_data[feature].mode().iloc[0]\n",
    "        \n",
    "        t2.at[row_name, 'Отток'] = f\"{churn_mode}\"\n",
    "        t2.at[row_name, 'Не отток'] = f\"{no_churn_mode}\"\n",
    "\n"
   ]
  },
  {
   "cell_type": "markdown",
   "metadata": {},
   "source": [
    "**Отобразим таблицу**\n",
    "\n",
    "\n",
    "| Признак                                   | Отток                                               | Не отток                                            | Относительная разница   |\n",
    "|:------------------------------------------|:----------------------------------------------------|:----------------------------------------------------|:------------------------|\n",
    "| Средний кредитный рейтинг                 | 863.36                                              | 845.40                                              | 2.13%                   |\n",
    "| Средний возраст                           | 41.43                                               | 43.02                                               | -3.70%                  |\n",
    "| Средний баланс                            | Среднее: 1134458.21<br>Медиана: 783908.90           | Среднее: 733031.63<br>Медиана: 475410.09           | 54.76%                  |\n",
    "| Средняя зарплата                          | Среднее: 148357.48<br>Медиана: 125408.88            | Среднее: 147674.64<br>Медиана: 118227.60           | 0.46%                   |\n",
    "| Медианное количество продуктов            | 2.00                                                | 2.00                                                | –                       |\n",
    "| Медианное количество собственности        | 4.00                                                | 3.00                                                | –                       |\n",
    "| Мода использования кредитной карты        | 1                                                   | 1                                                   | –                       |\n",
    "| Мода по последней активности              | 1                                                   | 0                                                   | –                       |\n",
    "| Мода по городу                            | Ярославль                                           | Ярославль                                           | –                       |\n",
    "| Мода по полу                              | М                                                   | Ж                                                   | –                       |\n"
   ]
  },
  {
   "cell_type": "markdown",
   "metadata": {},
   "source": [
    "**Сравнение портретов клиентов:**\n",
    "\n",
    "1) Средний кредитный рейтинг: Клиенты, которые покидают банк, в среднем имеют кредитный рейтинг выше на 2.13% по сравнению с теми, кто остается. Это может говорить о том, что клиенты с более высоким кредитным рейтингом могут находить более выгодные предложения в других банках или быть недовольными услугами текущего банка.\n",
    "\n",
    "\n",
    "2) Средний возраст: Клиенты в оттоке в среднем младше на 3.7%. Это может указывать на то, что младшее поколение менее лояльно к банку или ищет новые, более привлекательные условия обслуживания.\n",
    "\n",
    "\n",
    "3) Средний баланс: Клиенты, уходящие из банка, в среднем имеют баланс на 54.76% выше. Это весьма существенная разница, которая может говорить о том, что клиенты с большими балансами не находят для себя достаточных преимуществ в услугах банка.\n",
    "\n",
    "\n",
    "4) Средняя зарплата: Разница между средними зарплатами клиентов, уходящих и оставшихся, составляет всего 0.46%, что делает этот показатель менее значимым в контексте анализа оттока.\n",
    "\n",
    "\n",
    "5) Продукты и собственность: Ушедшие клиенты в среднем имели больше собственности по сравнению с оставшимися клиентами.   Медианные значения по количеству продуктов одинаковы для обеих групп, что говорит о том, что эти параметры не влияют на вероятность оттока клиента.\n",
    "\n",
    "\n",
    "6) Поведенческие характеристики: Использование кредитной карты, активность и предпочтение города совпадают для обеих групп. Однако мода по последней активности различается: клиенты в оттоке в среднем были активнее недавно.\n",
    "\n",
    "\n",
    "7) Гендерный аспект: Среди уходящих клиентов преобладают мужчины, в то время как среди оставшихся - женщины. Это может указывать на различные потребности и ожидания у разных гендерных групп.\n",
    "\n",
    "\n",
    "**Сравнение характеристик клиентов, склонных и не склонных уходить из банка:**\n",
    "\n",
    "`Склонные к оттоку:`   \n",
    "- имеют более высокий кредитный рейтинг \n",
    "- моложе по возрасту \n",
    "- имеют значительно больший средний баланс на счете \n",
    "- немного больше зарабатывают\n",
    "- в среднем имели больше собственности\n",
    "- чаще это мужчины \n",
    "\n",
    "Эти показатели могут свидетельствовать о том, что молодые и финансово состоятельные клиенты менее лояльны к банку или ищут более выгодные условия обслуживания.\n",
    "\n",
    "`Не склонные к оттоку:`  \n",
    "- клиенты старше\n",
    "- имеют несколько ниже кредитный рейтинг\n",
    "- меньший баланс на счете\n",
    "- меньше собственности \n",
    "- чаще это женщины\n",
    "\n",
    "Стоит уделить внимание услугам и продуктам, которые предоставляются молодым и финансово состоятельным клиентам, чтобы удержать этот сегмент. "
   ]
  },
  {
   "cell_type": "markdown",
   "metadata": {},
   "source": [
    "<a id='section3_2'></a>"
   ]
  },
  {
   "cell_type": "markdown",
   "metadata": {},
   "source": [
    "###  Анализ распределения признаков"
   ]
  },
  {
   "cell_type": "markdown",
   "metadata": {},
   "source": [
    "<a id='section3_2_1'></a>"
   ]
  },
  {
   "cell_type": "markdown",
   "metadata": {},
   "source": [
    "#### Анализ распределений непрерывных признаков.\n",
    "\n",
    "Найдем отточные интервалы, то есть интервалы значений признаков, в которых отток клиентов выше чем лояльность.  \n",
    "Будем использовать sns.histplot с параметрами hue и настройками stat=\"density\", common_norm=False,  а так же пропишим верхние границы значений для баланса (2 млн) и зарплаты (400 тыс), выявленные на этапе анализа выбросов, для корректной визуализации. "
   ]
  },
  {
   "cell_type": "code",
   "execution_count": 21,
   "metadata": {},
   "outputs": [
    {
     "data": {
      "image/png": "[encoded data removed]"
     },
     "metadata": {},
     "output_type": "display_data"
    }
   ],
   "source": [
    "# Создаем список непрерывных признаков\n",
    "continuous_features = ['score', 'age', 'balance', 'est_salary']\n",
    "feature_rus_names = {\n",
    "    'score': 'Кредитный рейтинг',\n",
    "    'age': 'Возраст',\n",
    "    'balance': 'Баланс',\n",
    "    'est_salary': 'Оценочный доход'\n",
    "}\n",
    "churn_intervals = []\n",
    "\n",
    "# Создаем фигуру\n",
    "fig, axes = plt.subplots(2, 2, figsize=(10, 6))\n",
    "axes = axes.flatten()\n",
    "\n",
    "for i, feature in enumerate(continuous_features):\n",
    "    bins = 'auto'\n",
    "    if feature == 'age':\n",
    "        # Вычислим количество уникальных возрастов для определения количества корзин\n",
    "        bins = df[feature].nunique()\n",
    "\n",
    "    # Строим гистограмму\n",
    "    sns.histplot(data=df, x=feature, hue='churn', bins=bins, stat=\"density\", common_norm=False, alpha=0.5, ax=axes[i])\n",
    "    axes[i].set_title(f'Интервал оттока: {feature_rus_names[feature]}')\n",
    "    axes[i].set_xlabel(feature_rus_names[feature])\n",
    "    axes[i].set_ylabel('Плотность')\n",
    "\n",
    "    # Добавляем легенду на каждый график\n",
    "    axes[i].legend(['Отток', 'Лояльность'])\n",
    "\n",
    "    if feature == 'balance':\n",
    "        # Ограничиваем диапазон значений по оси x \n",
    "        axes[i].set_xlim(0, 2000000)\n",
    "    elif feature == 'est_salary':\n",
    "        # Ограничиваем диапазон значений по оси x\n",
    "        axes[i].set_xlim(0, 400000)\n",
    "        # Изменяем метки на оси х, чтобы значения были представлены в тысячах (K)\n",
    "        axes[i].xaxis.set_major_formatter(lambda x, _: f'{int(x/1000)}K')\n",
    "\n",
    "\n",
    "    # Выделяем значения признака для оттока и лояльности\n",
    "    churn_values = df[df['churn'] == 1][feature]\n",
    "    loyal_values = df[df['churn'] == 0][feature]\n",
    "\n",
    "    # Вычисляем интервалы значений для оттока и лояльности\n",
    "    churn_interval = (churn_values.min(), churn_values.max())\n",
    "    loyal_interval = (loyal_values.min(), loyal_values.max())\n",
    "\n",
    "    # Добавляем интервалы в список\n",
    "    churn_intervals.append((feature_rus_names[feature], churn_interval, loyal_interval))\n",
    "\n",
    "# Располагаем графики плотности по два в ряду\n",
    "plt.tight_layout()\n",
    "plt.show()\n",
    "\n",
    "# Выводим интервалы оттока и лояльности для каждого признака\n",
    "for feature, churn_interval, loyal_interval in churn_intervals:\n",
    "    print(f\"Признак: {feature}\")\n",
    "    print(f\"Интервал оттока: {churn_interval}\")\n",
    "    print(f\"Интервал лояльности: {loyal_interval}\")\n"
   ]
  },
  {
   "cell_type": "markdown",
   "metadata": {},
   "source": [
    "***Анализ результатов распределения непрерывных признаков.***    \n",
    "\n",
    "- `Кредитный рейтинг`:  \n",
    "На интервале  с 830 до 930, отток превышает лояльность.  Распределение приближено к нормальному, это говорит о том, что кредитный рейтинг влияет на отток клиентов. \n",
    "\n",
    "\n",
    "- `Возраст:`  \n",
    "Отток превышает лояльность на интервалах :с 26 до 36 и с 50 до 60. Это может указывать на то, что молодые и пожилые клиенты имеют небольшую тенденцию к оттоку.\n",
    "\n",
    "\n",
    "- `Баланс:`  \n",
    "Превышение оттока наблюдается  на интервале с 750 тыс до 2 млн(осекли выбросы). Что свиделельствует о том , что чем больше баланс , тем склонее клиенты к оттоку. Можно предположить, что у банка отсутствуют выгодные условия для клиентов с большим балансом.\n",
    "\n",
    "\n",
    "- `Оценочный доход:`  \n",
    "Очевидное превышение оттока со 100 тыс. до 220 тыс. А с 250 до 400 - менее выраженно, но также просматривается превышение оттока относительно лояльности. Более высокие значения зарплаты связаны с более низким оттоком, возможно есть какие-либо условия по зарплатным проектам. \n"
   ]
  },
  {
   "cell_type": "markdown",
   "metadata": {},
   "source": [
    "<a id='section3_2_2'></a>"
   ]
  },
  {
   "cell_type": "markdown",
   "metadata": {},
   "source": [
    "#### Анализ категориальных/дискретных признаков.\n",
    "\n",
    "Определим значения признаков, у которых отток клиентов выше, чем среднее по банку.  \n",
    "Будем использовать barplot() с отображением линии серднего оттока по банку (18%)"
   ]
  },
  {
   "cell_type": "code",
   "execution_count": 22,
   "metadata": {},
   "outputs": [
    {
     "data": {
      "image/png": "[encoded data removed]"
     },
     "metadata": {},
     "output_type": "display_data"
    }
   ],
   "source": [
    "# Вычисление среднего уровня оттока\n",
    "mean_churn = df['churn'].mean()\n",
    "\n",
    "# Список категориальных/дискретных признаков\n",
    "categorical_features = ['equity', 'products', 'credit_card', 'last_activity','city', 'gender']\n",
    "feature_names = {\n",
    "    'equity': 'Оценка собственности',\n",
    "    'products': 'Кол-во продуктов',\n",
    "    'credit_card': 'Кредитная карта',\n",
    "    'gender': 'Пол',\n",
    "    'city': 'Город',\n",
    "    'last_activity': 'Активность клиентов'\n",
    "}\n",
    "\n",
    "num_rows = 2  \n",
    "num_cols = 3 \n",
    "fig, axes = plt.subplots(num_rows, num_cols, figsize=(13, 7))\n",
    "\n",
    "for i, feature in enumerate(categorical_features):\n",
    "    row = i // num_cols\n",
    "    col = i % num_cols\n",
    "    \n",
    "    churn_by_feature = df.groupby(feature)['churn'].mean()\n",
    "    \n",
    "    # Строим горафик с указанием среднего уровня оттока\n",
    "    plt.subplot(num_rows, num_cols, i+1)\n",
    "    sns.barplot(x=feature, y='churn', data=df, alpha=0.5)\n",
    "    plt.axhline(mean_churn, color='red', linestyle='--')\n",
    "    plt.title(f'Отток по значениям: {feature_names[feature]}')\n",
    "    plt.xlabel(feature_names[feature])\n",
    "    plt.ylabel('Уровень оттока')\n",
    "\n",
    "plt.tight_layout()\n",
    "plt.show()\n"
   ]
  },
  {
   "cell_type": "markdown",
   "metadata": {},
   "source": [
    "***Анализ результатов рапределения категориальных/дискретных признаков.***\n",
    "\n",
    "`Оценка собственности`:   \n",
    "Уровень оттока признака превышает среднее по банку у всех значений больше 2 баллов. Чем выше бал собственности, тем разница между средним уровнем  и уровнем признака больше. Исключением являются клиенты с баллом собственности равным 8. Можно предположить , что количество баллов  влияет на отток. \n",
    "\n",
    "\n",
    "`Количество продуктов`:    \n",
    "Начиная с 2 более продуктов, отток превышает средний уровень. Наиболее склонны к оттоку клиенты с 4-я продуктами - 65% в сравнение с средним - 18%. \n",
    "\n",
    "\n",
    "`Наличие кредитной карты`:   \n",
    "У клиентов с кредитными картами уровень оттока равен 15%, что ниже среднего на 3%. Клиенты у которых нет кредитной карты наоборот, превышают среднее значение на 5%.\n",
    "\n",
    "\n",
    "`Активность клиентов`:  \n",
    "Уровень оттока активных клиентов выше средено на 6%, в то время как неактивные клиенты не дотягивают до среднего уровня(12%). Можно предположить что активность провлялась с решением клиента уйти (оформление документов , закрытие счетов и т.д.)\n",
    "\n",
    "\n",
    "`Пол`:  \n",
    "Оба графика наглядно отображают зависимоть оттока от пола. Женщины - 13%, мужчины - 23% при среднем уровне -18%.\n",
    "\n",
    "\n",
    "`Город`:  \n",
    "Очевидно , что город не влияет на отток , незначительное превышение среднего в городах Ростов и Ярославль.\n",
    "\n"
   ]
  },
  {
   "cell_type": "markdown",
   "metadata": {},
   "source": [
    "<a id='section3_3'></a>"
   ]
  },
  {
   "cell_type": "markdown",
   "metadata": {},
   "source": [
    "### Корреляционный анализ\n",
    "\n",
    "Проведем корреляционный анализ  с целью выявления сильных и слабых связей для определения факторов влияющих на отток клиентов.  \n",
    "Расчитаем коэффициент корреляции оттока со всеми признаками,таким образом мы не перегрузим визуализацию масштабной тепловой картой и достигнем основной цели-выявим признаки , влияющие на отток.\n",
    "\n",
    "Проанализируем связь по  шкале корреляции Чеддока и на этапе сегментации будем полученный результат. \n",
    "\n",
    "Шкала Чеддока  \n",
    "0,1 - 0,3\tСлабая  \n",
    "0,3 - 0,5\tУмеренная  \n",
    "0,5 - 0,7\tЗаметная  \n",
    "0,7 - 0,9\tВысокая  \n",
    "0,9 - 0,99\tВесьма высокая  \n"
   ]
  },
  {
   "cell_type": "code",
   "execution_count": 23,
   "metadata": {},
   "outputs": [
    {
     "data": {
      "image/png": "[encoded data removed]"
     },
     "metadata": {},
     "output_type": "display_data"
    },
    {
     "data": {},
     "execution_count": 23,
     "metadata": {},
     "output_type": "execute_result"
    }
   ],
   "source": [
    "# Определение списка непрерывных признаков\n",
    "interval_cols = ['score', 'age', 'balance', 'est_salary']\n",
    "\n",
    "# Словарь для перевода названий признаков на русский язык\n",
    "features_russian = {\n",
    "    'balance_missing': 'Баланс отсутствует',\n",
    "    'equity': 'Баллы собственности',\n",
    "    'last_activity': 'Активность клиента',\n",
    "    'products': 'Кол-во продуктов',\n",
    "    'score': 'Кредитный рейтинг',\n",
    "    'gender': 'Пол',\n",
    "    'credit_card': 'Кредитная карта',\n",
    "    'age': 'Возраст',\n",
    "    'est_salary': 'Оценочный доход',\n",
    "    'balance': 'Баланс',\n",
    "    'city': 'Город'\n",
    "}\n",
    "\n",
    "# Вычисление матрицы корреляции с применением phi_k\n",
    "correlation_matrix = df.phik_matrix(interval_cols=interval_cols)\n",
    "\n",
    "# Отбор значений корреляции только для признака оттока (churn)\n",
    "churn_correlation = correlation_matrix['churn'].drop('churn')\n",
    "\n",
    "# Удаление ненужных признаков\n",
    "features_to_remove = ['user_id']\n",
    "churn_correlation = churn_correlation.drop(features_to_remove, errors='ignore')\n",
    "\n",
    "churn_correlation.index = [features_russian.get(item, item) for item in churn_correlation.index]\n",
    "\n",
    "# Создание матрицы корреляции только для признака оттока (churn)\n",
    "heatmap_data = np.array([churn_correlation.values])\n",
    "\n",
    "# Создание и отображение тепловой карты с значениями корреляции\n",
    "plt.imshow(heatmap_data, cmap='coolwarm', vmin=-1, vmax=1)\n",
    "plt.colorbar(label='Корреляция')\n",
    "plt.xticks(range(len(churn_correlation)), churn_correlation.index, rotation=90)\n",
    "plt.yticks([])\n",
    "plt.title('Корреляция оттока по шкале Чеддока')\n",
    "plt.show()\n",
    "\n",
    "\n",
    "churn_correlation.sort_values(ascending=False)"
   ]
  },
  {
   "cell_type": "markdown",
   "metadata": {},
   "source": [
    "Шкала корреляции Чеддока имеет значения от -1 до 1, где ближе к -1 означает отрицательную связь, ближе к 1 - положительную связь, а значений около 0 - слабую или отсутствующую связь.\n",
    "\n",
    "Исходя из подученных результатов корреляционного анализа оттока, можно сделать следующие выводы:\n",
    "\n",
    "\n",
    "- Признаки, имеющие `значительное влияние` на отток клиентов:  \n",
    "`equity` (0.35), `products` (0.26), `last_activity` (0.26) и `score` (0.23).\n",
    "\n",
    "\n",
    "- `Слабое влияние` на отток клиентов наблюдается у следующих признаков:  \n",
    "`age` (0.18), `credit_card` (0.20) и `gender` (0.22).\n",
    "\n",
    "\n",
    "- Признаки, `не имеющие существенной связи` с оттоком клиентов:  \n",
    "`balance` (0.02), `city` (0.02), `est_salary` (0.05).\n",
    "\n",
    "\n",
    "- Бинарный признак balance_missing (0.38) имеет `значительную корреляцию`, что может указывать на важность отсутствующих значений баланса в предсказании оттока клиентов. Проверим гипотезу о влиянии пропущенных значений на уровень оттока. "
   ]
  },
  {
   "cell_type": "markdown",
   "metadata": {},
   "source": [
    "***Промежуточные выводы:***\n",
    "\n",
    "По резултатам анализа портрев клиентов в разрезе оттока были выявлены основные характеристики клиентов более склонных и менее склонных к оттоку. Признаки, которые можно использовать при формировнии сегментов, включают кредитный рейтинг, возраст, баланс на счете и зарплату. \n",
    "\n",
    "Анализ распределения непрерывных признаков показал, что отток клиентов превышает средний уровень для определенных интервалов значений кредитного рейтинга, возраста, баланса и зарплаты.\n",
    "\n",
    "Анализ категориальных/дискретных признаков показал, что количество баллов собственности и количество продуктов имеют значительное влияние на отток клиентов. Клиенты без кредитной карты и неактивные клиенты также склонны к большему оттоку.\n",
    "\n",
    "Корреляционный анализ выявил, что факторы, такие как баллы собственности (equity), количество продуктов (products), активность клиента (last_activity) и кредитный рейтинг (score), оказывают значительное влияние на отток клиентов.\n",
    "\n",
    "Для более точного определения факторов, влияющих на отток клиентов и формирования сегментов, проверку гипотез."
   ]
  },
  {
   "cell_type": "markdown",
   "metadata": {},
   "source": [
    "<a id='section4'></a>"
   ]
  },
  {
   "cell_type": "markdown",
   "metadata": {},
   "source": [
    "##  Проверка гипотез"
   ]
  },
  {
   "cell_type": "markdown",
   "metadata": {},
   "source": [
    "### Гипотеза о различии дохода между клиентами, ушедшими и оставшимися\n",
    "\n",
    "Один из наиболее распространенных тестов для этой цели - это t-тест Стьюдента. Данный тест позволяет определить, есть ли статистически значимое различие между средними значениями двух выборок. В данном случае, мы будем сравнивать средний доход (est_salary) у клиентов, ушедших и оставшихся.\n",
    "\n",
    "Основная предпосылка для проведения t-теста — нормальность распределения данных. Опираясь на  Центральную Предельную Теорему (ЦПТ), которая гласит, что  при достаточно большой выборке, распределение средних значений будет приближаться к нормальному распределению, даже если исходные данные не являются нормально распределенными.  \n",
    "Поэтому можно применять t-тест для проверки гипотезы.\n",
    "\n"
   ]
  },
  {
   "cell_type": "markdown",
   "metadata": {},
   "source": [
    "Сформулируем гипотезы.  \n",
    "H0: Нет статистически значимого различия в доходе между клиентами, ушедшими и оставшимися.  \n",
    "H1: Существует статистически значимое различие в доходе между клиентами, ушедшими и оставшимися.  \n",
    "Уровень значимости установим стандартный- 0.05."
   ]
  },
  {
   "cell_type": "markdown",
   "metadata": {},
   "source": [
    "Для того что бы убедиться в достоверности тестирования , решила проверить гипотезу двумя тестами. \n",
    "Но так как мы тестируем Оценочный доход, не стоит забывать ,  а что в этом столбце присутствуют выбросы.  Для чистоты эксперемента отсечем выбросы обозначенные ранее.   "
   ]
  },
  {
   "cell_type": "code",
   "execution_count": 24,
   "metadata": {},
   "outputs": [],
   "source": [
    "# Проверим долю значений с выбросами\n",
    "outliers_count = df[df['est_salary'] > 400000].shape[0]\n",
    "\n",
    "# Общее количество записей\n",
    "total_count = df.shape[0]\n",
    "\n",
    "# Доля выбросов\n",
    "outliers_ratio = outliers_count / total_count\n",
    "print(outliers_ratio)\n"
   ]
  },
  {
   "cell_type": "markdown",
   "metadata": {},
   "source": [
    "Доля выбросов незначительная, можно приступать к тестированию. "
   ]
  },
  {
   "cell_type": "code",
   "execution_count": 25,
   "metadata": {},
   "outputs": [],
   "source": [
    "df_filtered = df[df['est_salary'] <= 400000]\n",
    "\n",
    "departed_income = df_filtered[df_filtered['churn'] == 1]['est_salary']\n",
    "retained_income = df_filtered[df_filtered['churn'] == 0]['est_salary']\n",
    "\n",
    "# Проверка гипотезы с помощью теста Манна-Уитни\n",
    "statistic, p_value = mannwhitneyu(departed_income, retained_income)\n",
    "\n",
    "print(\"Тест Манна-Уитни без выбросов:\")\n",
    "print(\"Статистика теста:\", statistic)\n",
    "print(\"p-value: {0:.3f}\".format(p_value))\n",
    "\n",
    "if p_value < 0.05:\n",
    "    print('Отвергаем нулевую гипотезу')\n",
    "else:\n",
    "    print('Не получилось отвергнуть нулевую гипотезу')\n",
    "\n",
    "# Проверка гипотезы с помощью t-теста\n",
    "t_stat, p_value = ttest_ind(departed_income, retained_income)\n",
    "\n",
    "print(\"\\nt-тест без выбросов:\")\n",
    "print(\"Статистика теста:\", t_stat)\n",
    "print(\"p-value: {0:.3f}\".format(p_value))\n",
    "\n",
    "if p_value < 0.05:\n",
    "    print('Отвергаем нулевую гипотезу')\n",
    "else:\n",
    "    print('Не получилось отвергнуть нулевую гипотезу')"
   ]
  },
  {
   "cell_type": "markdown",
   "metadata": {},
   "source": [
    "Тест Манна-Уитни: p-value составляет 0.000, что намного меньше установленного уровня значимости в 0.05. Это указывает на то, что различия в доходе между двумя группами статистически значимы. Следовательно, мы отвергаем нулевую гипотезу.\n",
    "\n",
    "t-тест: Аналогично, p-value для t-теста также составляет 0.000, что подтверждает результаты, полученные с помощью теста Манна-Уитни. Опять же, мы отвергаем нулевую гипотезу.\n",
    "\n",
    "Таким образом, на основе результатов обоих тестов можно сделать вывод, что существует статистически значимое различие в доходе между клиентами, ушедшими и оставшимися. То есть, доход, вероятно, является значимым фактором, который влияет на решение клиентов уйти или остаться."
   ]
  },
  {
   "cell_type": "markdown",
   "metadata": {},
   "source": [
    "###  Гипотеза о различии количества продуктов, которыми пользуется клиент, ушедшими и оставшимися"
   ]
  },
  {
   "cell_type": "markdown",
   "metadata": {},
   "source": [
    "По аналогии с проверкой первой гипотезы, при выборе метода тестирования будем опираться на ЦПТ. Благодаря большой выборке мы можем считать что распределение приближено к нормальному , что является обоснованием для использования ttesta."
   ]
  },
  {
   "cell_type": "markdown",
   "metadata": {},
   "source": [
    "Сформулируем гипотезы.  \n",
    "H0: Нет статистически значимого различия в количестве продуктов между группой ушедших и оставшихся клиентов.  \n",
    "H1: Существует статистически значимое различие в количестве продуктов между группой ушедших и оставшихся клиентов.  \n",
    "Уровень значимости установим стандартный- 0.05."
   ]
  },
  {
   "cell_type": "code",
   "execution_count": 26,
   "metadata": {},
   "outputs": [],
   "source": [
    "alpha = 0.05\n",
    "\n",
    "# Создаем две выборки\n",
    "departed_products = df[df['churn'] == 1]['products']\n",
    "retained_products = df[df['churn'] == 0]['products']\n",
    "\n",
    "# Проверка гипотезы с помощью t-теста\n",
    "t_stat, p_value = ttest_ind(departed_products, retained_products)\n",
    "\n",
    "print(\"t-тест:\")\n",
    "print(\"Статистика:\", t_stat)\n",
    "print(\"p-value: {0:.3f}\".format(p_value))\n",
    "\n",
    "if p_value < alpha:\n",
    "    print('Отвергаем нулевую гипотезу')\n",
    "else:\n",
    "    print('Не получилось отвергнуть нулевую гипотезу')"
   ]
  },
  {
   "cell_type": "markdown",
   "metadata": {},
   "source": [
    "Таким образом, имеются статистически значимые доказательства в пользу альтернативной гипотезы, которая гласит, что существует статистически значимое различие в количестве продуктов между этими двумя группами клиентов.  \n",
    "Это означает, что существует связь  между количеством продуктов и вероятностью оттока клиентов."
   ]
  },
  {
   "cell_type": "markdown",
   "metadata": {},
   "source": [
    "###  Гипотеза о влиянии  города  на отточность клиентов"
   ]
  },
  {
   "cell_type": "markdown",
   "metadata": {},
   "source": [
    "По резельтатам EDA анализа мы пришли к выводу , что город проживания клиента не влияет на его лояльное отношение к банку. \n",
    "Давайте проверим эту гипотезу и удостоверимся в полученном ранее результате.  \n",
    "Для проверки гипотез будем использовать статистический тест на независимость между категориальными признаками, такими как коэффициент хи-квадрат (chi-square) или точный тест Фишера.\n",
    "\n",
    "\n",
    "Сформулируем гипотезы:  \n",
    "Н0: Город не влияет на отток клиентов.  \n",
    "Н1: Город влияет на отток клиентов.  \n",
    "Уровень значимости установим стандартный- 0.05."
   ]
  },
  {
   "cell_type": "code",
   "execution_count": 34,
   "metadata": {},
   "outputs": [],
   "source": [
    "# Создание сводной таблицы для анализа связи между городом проживания и оттоком\n",
    "cross_table = pd.crosstab(df['churn'], [df['city']])\n",
    "\n",
    "# Выполнение теста хи-квадрат\n",
    "chi2, p_value, _, _ = chi2_contingency(cross_table)\n",
    "\n",
    "# Вывод результатов\n",
    "print(\"Статистика хи-квадрат: {0:.3f}\".format(chi2))\n",
    "print(\"P-value: {0:.3f}\".format(p_value))\n",
    "\n",
    "# Проверка статистической значимости на уровне alpha\n",
    "alpha = 0.05\n",
    "if p_value < alpha:\n",
    "    print(\"Отвергаем нулевую гипотезу: город оказывает статистически значимое влияние на отток клиента\")\n",
    "else:\n",
    "    print(\"Не получилось отвергнуть нулевую гипотезу: город не оказывает статистически значимого влияния на отток клиента\")"
   ]
  },
  {
   "cell_type": "markdown",
   "metadata": {},
   "source": [
    "Таким образом, на основе проведенного теста мы получили неожиданный результат,  что город оказывает статистически значимое влияние на вероятность оттока клиента.\n",
    "\n",
    "Мы проверили три гипотезы и по результатам тестирования отвергли нулевые гипотезы , что доказывает статистическую значимость проверяемых признаков на отточность клиентов. "
   ]
  },
  {
   "cell_type": "markdown",
   "metadata": {},
   "source": [
    "**Выводы**\n",
    "\n",
    "Совместное использование результатов EDA, корреляционного анализа и проверки гипотез позволяет определить следующие, наиболее информативные признаки, для формирования наиболее эффективных сегментов для управления оттоком клиентов в банке \"Метанпромбанк\":\n",
    "\n",
    "1) Количество продуктов, используемых клиентом (products): Клиенты с разным количеством продуктов могут быть разделены на сегменты с учетом статистически значимого различия в количестве продуктов между ушедшими и оставшимися клиентами.\n",
    "\n",
    "\n",
    "2) Кредитный рейтинг (score): Разделение клиентов на сегменты с учетом кредитного рейтинга является важным фактором, так как низкий кредитный рейтинг связан с повышенным оттоком клиентов.\n",
    "\n",
    "\n",
    "4) Активность клиента (last_activity): Уровень активности клиента также может быть использован для формирования сегментов, учитывая его важную роль в прогнозировании вероятности оттока.\n",
    "\n",
    "\n",
    "5) Наличие кредитной карты (credit_card): Группировка клиентов по наличию/отсутствию кредитной карты может быть полезной при формировании сегментов. \n",
    "\n",
    "\n",
    "6) Баланс на счете (balance) и доход (est_salary): Уровень баланса на счете и доход клиента могут также служить информативными признаками для формирования эффективных сегментов, учитывая связь этих факторов с вероятностью оттока.\n",
    "\n",
    "\n",
    "7) Разделение по городам: Включение фактора города в формирование сегментов позволит более точно определить особенности поведения и потребностей клиентов в разных городах, а также предложить персонализированные меры для удержания их в банке.\n"
   ]
  },
  {
   "cell_type": "markdown",
   "metadata": {},
   "source": [
    "<a id='section5'></a>"
   ]
  },
  {
   "cell_type": "markdown",
   "metadata": {},
   "source": [
    "## Сегментация "
   ]
  },
  {
   "cell_type": "code",
   "execution_count": 33,
   "metadata": {
    "scrolled": false
   },
   "outputs": [],
   "source": [
    "def segment_clients(df):\n",
    "    # Сегмент 1\n",
    "    segment_1 = df.query(\"830 <= score <= 930 and balance >= 750000 and gender == 'М'\")\n",
    "\n",
    "    churn_count_1 = segment_1['churn'].sum()\n",
    "    total_count_1 = segment_1.shape[0]\n",
    "    churn_rate_1 = churn_count_1 / total_count_1\n",
    "\n",
    "    print(\"Сегмент 1\")\n",
    "    print(\"Признаки:\")\n",
    "    print(' \"score\" - от 830 до 930')\n",
    "    print(' \"balance\" - от 750 тыс')\n",
    "    print(' \"gender\" - М')\n",
    "    print(f\"Количество клиентов: {total_count_1}\")\n",
    "    print(f\"Количество отточных клиентов: {churn_count_1}\")\n",
    "    print(f\"Уровень оттока в сегменте: {churn_rate_1:.2%}\\n\")\n",
    "\n",
    "    # Сегмент 2\n",
    "    segment_2 = df.query(\"est_salary >= 100000 and products in [3, 4, 5] and 3 <= equity <= equity.max()\")\n",
    "\n",
    "    churn_count_2 = segment_2['churn'].sum()\n",
    "    total_count_2 = segment_2.shape[0]\n",
    "    churn_rate_2 = churn_count_2 / total_count_2\n",
    "\n",
    "    print(\"Сегмент 2\")\n",
    "    print(\"Признаки:\")\n",
    "    print(' \"est_salary\"- от 100,000 ')\n",
    "    print(' \"products\" -  3, 4 или 5')\n",
    "    print(' \"equity\" от 3')\n",
    "    print(f\"Количество клиентов: {total_count_2}\")\n",
    "    print(f\"Количество отточных клиентов: {churn_count_2}\")\n",
    "    print(f\"Уровень оттока в сегменте: {churn_rate_2:.2%}\\n\")\n",
    "\n",
    "    # Сегмент 3\n",
    "    segment_3 = df.query(\"city == 'Ярославль' and balance >= 750000 and credit_card == 0\")\n",
    "\n",
    "    churn_count_3 = segment_3['churn'].sum()\n",
    "    total_count_3 = segment_3.shape[0]\n",
    "    churn_rate_3 = churn_count_3 / total_count_3\n",
    "\n",
    "    print(\"Сегмент 3\")\n",
    "    print(\"Признаки:\")\n",
    "    print(' \"city\" - Ярославль')\n",
    "    print(' \"balance\" от 750,000')\n",
    "    print(' \"credit_card\" - 0')\n",
    "    print(f\"Количество клиентов: {total_count_3}\")\n",
    "    print(f\"Количество отточных клиентов: {churn_count_3}\")\n",
    "    print(f\"Уровень оттока в сегменте: {churn_rate_3:.2%}\\n\")\n",
    "    \n",
    "\n",
    "\n",
    "\n",
    "# Вызов функции segment_clients\n",
    "segment_clients(df)"
   ]
  },
  {
   "cell_type": "markdown",
   "metadata": {},
   "source": [
    "<a id='section6'></a>"
   ]
  },
  {
   "cell_type": "markdown",
   "metadata": {},
   "source": [
    "##  Приоритизация сегментов"
   ]
  },
  {
   "cell_type": "markdown",
   "metadata": {},
   "source": [
    "Для ранжирования сегментов по степени значимости, будем использовать  метод  приоритизации по убыванию отточных клиентов.  Данный подход позволяет бизнесу сосредоточить свои усилия на тех сегментах, где риск оттока наиболее высок. Работая с наиболее проблемными сегментами в первую очередь, компания может максимизировать свою эффективность в удержании клиентов.  \n",
    "Этот подход также помогает оптимизировать распределение ресурсов."
   ]
  },
  {
   "cell_type": "code",
   "execution_count": 28,
   "metadata": {},
   "outputs": [],
   "source": [
    "# Создание списка с информацией о каждом сегменте\n",
    "segments = [\n",
    "    {\"segment\": \"Сегмент 1\", \"churn_rate\": 51.72},\n",
    "    {\"segment\": \"Сегмент 2\", \"churn_rate\": 52.09},\n",
    "    {\"segment\": \"Сегмент 3\", \"churn_rate\": 45.93}\n",
    "]\n",
    "\n",
    "# Сортировка сегментов по уровню оттока (в порядке убывания)\n",
    "sorted_segments = sorted(segments, key=lambda x: x[\"churn_rate\"], reverse=True)\n",
    "\n",
    "# Вывод ранжированных сегментов\n",
    "print(\"Ранжирование сегментов по уровню оттока:\")\n",
    "for i, segment in enumerate(sorted_segments):\n",
    "    print(f\"{i+1}. {segment['segment']}\")"
   ]
  },
  {
   "cell_type": "markdown",
   "metadata": {},
   "source": [
    "<a id='section7'></a>"
   ]
  },
  {
   "cell_type": "markdown",
   "metadata": {},
   "source": [
    "##  Рекомендации по снижению уровня отточности"
   ]
  },
  {
   "cell_type": "markdown",
   "metadata": {},
   "source": [
    "По результатам проведенного исследования могу предложить ряд рекомендаций для снижения уровня отточности и удержания существующих клиентов.\n",
    "\n",
    "\n",
    "**Сегмент 1** (уровень оттока: 51.72%):\n",
    "\n",
    "1) Разработать персонализированные программы лояльности для клиентов с высоким балансом и высоким кредитным рейтингом.\n",
    "\n",
    "\n",
    "2) Разработать персонализированные инвестиционные планы, основанные на кредитном рейтинге клиента, финансовую стабильность и его финансовых целях.\n",
    "\n",
    "\n",
    "3) Внедрить расширенный набор привилегий, таких как эксклюзивные предложения по кредитам и страхованию.\n",
    "\n",
    "\n",
    "4) Разработать в онлайн/мобильном банке инструмент, который позволит клиентам самостоятельно изучать и расчитывать потенциальную выгоду от вкладов, инвестиций и других финансовых продуктов. При необходимости предоставлять индивидуального финансового консультанта.\n",
    "\n",
    "\n",
    "5) Внедрить систему мониторинга изменений в рейтинге кредитоспособности клиентов, чтобы предупреждать о возможных рисках и предлагать соответствующие меры по управлению этими рисками.\n",
    "\n",
    "\n",
    "6) Организовать регулярные обзоры финансового состояния клиентов и предоставлять персональные рекомендации по оптимизации их финансового портфеля и предлагать соответствующие меры по управлению рисками.\n",
    "\n",
    "\n",
    "**Сегмент 2** (уровень оттока: 52.09%):\n",
    "\n",
    "1) Расширить ассортимент продуктов и услуг, предлагаемых в рамках пакета \"Продвинутый клиент\", включая дополнительные банковские продукты и инвестиционные возможности. Если клиент по каким либо показателям \"недотягивает\" до \"Продвинутого клиента\" мотивировать выгодными условиями.\n",
    "\n",
    "\n",
    "2) Разработать программу лояльности с дополнительными вознаграждениями и привилегиями для клиентов, использующих 4 или 5 продуктов банка.\n",
    "\n",
    "\n",
    "3) Предоставить персонализированные рекомендации по управлению финансами и инвестированию через различные цифровые каналы.\n",
    "\n",
    "\n",
    "4) Внедрить программу реферального маркетинга, предлагая клиентам вознаграждения за привлечение новых клиентов.\n",
    "\n",
    "\n",
    "5) Организовать специальные мероприятия и семинары для образования клиентов о различных аспектах финансового планирования и инвестирования.\n",
    "\n",
    "\n",
    "6) Создать сообщество клиентов с возможностью обмена опытом и советами по управлению финансами и инвестициям.\n",
    "\n",
    "\n",
    "**Сегмент 3** (уровень оттока: 45.93%):\n",
    "\n",
    "1) Предложить персонализированные и конкурентоспособные кредитные программы для клиентов из Ярославля, с учетом их географических особенностей и потребностей.\n",
    "\n",
    "\n",
    "2) Расширить возможности бесплатного онлайн-обслуживания и предоставления информации о банковских операциях.\n",
    "\n",
    "\n",
    "3) Развить партнерские отношения с местными предприятиями и предоставить специальные скидки и предложения для клиентов данного сегмента.\n",
    "\n",
    "\n",
    "4) Сотрудничество с местными организациями и предоставление специальных скидок или льготных условий для клиентов при пользовании услугами партнеров.\n",
    "\n",
    "\n",
    "5) Предложить программу поощрения для использования банковских услуг и расчетов безналичными средствами.\n",
    "\n",
    "\n",
    "**Общие рекомендации** \n",
    "1) Регулярно мониторить активность клиентов. Часто увеличение активности может сигнализировать о намерении клиента прекратить отношения с банком. Своевременное выявление таких изменений в поведении и выяснение причин, решившихся на смену банка, позволит предложить клиенту индивидуальные условия, удерживая от ухода.\n",
    "\n",
    "\n",
    "2) Разработать систему Сертификатов для каждого сегмента, которая позволит предоставлять клиентам разнообразные привилегии и услуги. Сертификаты могут быть представлены в подарок или прилагаться к другим продуктам банка, а также иметь возможность передачи третьим лицам.\n",
    "\n",
    "Примеры интересных предложений по сертификатам для различных сегментов:\n",
    "\n",
    "- Телемедицина (от уровня сертификата зависит уровень услуг, онлайн консультация, личное посещение, анализы и т.д )\n",
    "- Помощь на дорогах (можно предлагать к автокредитам, разовая помощь, если сто-то случилось на дороге)\n",
    "- Чек-апы (существует перечень заболеваний, характерных для конкретного региона; кол- во услуг зависит от уровня )\n",
    "- Для домашних питомцев (1йуровень-консультация по состоянию здоровь; 2-й - консультация и прививки и т.д.)\n",
    "- АнтиКлещ (проверка клеща по сертификату бесплатно и оперативно, сезонная актуальность)\n",
    "- услуги актуальные по регионам \n",
    "\n",
    "Важно установить гибкую систему набора услуг, которая будет изменяться в зависимости от признаков, которые необходимо \"прокачать\". Это позволит создать персонализированные и привлекательные предложения для каждого сегмента клиентов."
   ]
  }
 ],
 "metadata": {
  "ExecuteTimeLog": [
   {
    "duration": 2049,
    "start_time": "2023-08-22T11:34:46.380Z"
   },
   {
    "duration": 0,
    "start_time": "2023-08-22T11:34:48.432Z"
   },
   {
    "duration": 0,
    "start_time": "2023-08-22T11:34:48.434Z"
   },
   {
    "duration": 0,
    "start_time": "2023-08-22T11:34:48.438Z"
   },
   {
    "duration": 0,
    "start_time": "2023-08-22T11:34:48.439Z"
   },
   {
    "duration": 0,
    "start_time": "2023-08-22T11:34:48.441Z"
   },
   {
    "duration": 0,
    "start_time": "2023-08-22T11:34:48.443Z"
   },
   {
    "duration": 0,
    "start_time": "2023-08-22T11:34:48.450Z"
   },
   {
    "duration": 0,
    "start_time": "2023-08-22T11:34:48.451Z"
   },
   {
    "duration": 0,
    "start_time": "2023-08-22T11:34:48.453Z"
   },
   {
    "duration": 0,
    "start_time": "2023-08-22T11:34:48.454Z"
   },
   {
    "duration": 0,
    "start_time": "2023-08-22T11:34:48.456Z"
   },
   {
    "duration": 0,
    "start_time": "2023-08-22T11:34:48.458Z"
   },
   {
    "duration": 0,
    "start_time": "2023-08-22T11:34:48.459Z"
   },
   {
    "duration": 0,
    "start_time": "2023-08-22T11:34:48.461Z"
   },
   {
    "duration": 1,
    "start_time": "2023-08-22T11:34:48.462Z"
   },
   {
    "duration": 0,
    "start_time": "2023-08-22T11:34:48.464Z"
   },
   {
    "duration": 0,
    "start_time": "2023-08-22T11:34:48.466Z"
   },
   {
    "duration": 0,
    "start_time": "2023-08-22T11:34:48.469Z"
   },
   {
    "duration": 0,
    "start_time": "2023-08-22T11:34:48.471Z"
   },
   {
    "duration": 0,
    "start_time": "2023-08-22T11:34:48.482Z"
   },
   {
    "duration": 0,
    "start_time": "2023-08-22T11:34:48.485Z"
   },
   {
    "duration": 0,
    "start_time": "2023-08-22T11:34:48.487Z"
   },
   {
    "duration": 0,
    "start_time": "2023-08-22T11:34:48.488Z"
   },
   {
    "duration": 0,
    "start_time": "2023-08-22T11:34:48.490Z"
   },
   {
    "duration": 0,
    "start_time": "2023-08-22T11:34:48.491Z"
   },
   {
    "duration": 0,
    "start_time": "2023-08-22T11:34:48.495Z"
   },
   {
    "duration": 0,
    "start_time": "2023-08-22T11:34:48.498Z"
   },
   {
    "duration": 0,
    "start_time": "2023-08-22T11:34:48.500Z"
   },
   {
    "duration": 0,
    "start_time": "2023-08-22T11:34:48.502Z"
   },
   {
    "duration": 1393,
    "start_time": "2023-08-22T11:36:21.669Z"
   },
   {
    "duration": 2580,
    "start_time": "2023-08-22T11:36:28.424Z"
   },
   {
    "duration": 8,
    "start_time": "2023-08-22T11:36:31.013Z"
   },
   {
    "duration": 698,
    "start_time": "2023-08-22T11:36:31.027Z"
   },
   {
    "duration": 1,
    "start_time": "2023-08-22T11:36:31.728Z"
   },
   {
    "duration": 0,
    "start_time": "2023-08-22T11:36:31.730Z"
   },
   {
    "duration": 0,
    "start_time": "2023-08-22T11:36:31.731Z"
   },
   {
    "duration": 0,
    "start_time": "2023-08-22T11:36:31.735Z"
   },
   {
    "duration": 0,
    "start_time": "2023-08-22T11:36:31.736Z"
   },
   {
    "duration": 0,
    "start_time": "2023-08-22T11:36:31.738Z"
   },
   {
    "duration": 0,
    "start_time": "2023-08-22T11:36:31.739Z"
   },
   {
    "duration": 0,
    "start_time": "2023-08-22T11:36:31.742Z"
   },
   {
    "duration": 0,
    "start_time": "2023-08-22T11:36:31.743Z"
   },
   {
    "duration": 0,
    "start_time": "2023-08-22T11:36:31.745Z"
   },
   {
    "duration": 0,
    "start_time": "2023-08-22T11:36:31.747Z"
   },
   {
    "duration": 0,
    "start_time": "2023-08-22T11:36:31.748Z"
   },
   {
    "duration": 0,
    "start_time": "2023-08-22T11:36:31.749Z"
   },
   {
    "duration": 0,
    "start_time": "2023-08-22T11:36:31.750Z"
   },
   {
    "duration": 0,
    "start_time": "2023-08-22T11:36:31.751Z"
   },
   {
    "duration": 0,
    "start_time": "2023-08-22T11:36:31.753Z"
   },
   {
    "duration": 0,
    "start_time": "2023-08-22T11:36:31.754Z"
   },
   {
    "duration": 0,
    "start_time": "2023-08-22T11:36:31.784Z"
   },
   {
    "duration": 0,
    "start_time": "2023-08-22T11:36:31.785Z"
   },
   {
    "duration": 0,
    "start_time": "2023-08-22T11:36:31.786Z"
   },
   {
    "duration": 0,
    "start_time": "2023-08-22T11:36:31.789Z"
   },
   {
    "duration": 0,
    "start_time": "2023-08-22T11:36:31.790Z"
   },
   {
    "duration": 0,
    "start_time": "2023-08-22T11:36:31.792Z"
   },
   {
    "duration": 0,
    "start_time": "2023-08-22T11:36:31.793Z"
   },
   {
    "duration": 0,
    "start_time": "2023-08-22T11:36:31.798Z"
   },
   {
    "duration": 0,
    "start_time": "2023-08-22T11:36:31.803Z"
   },
   {
    "duration": 0,
    "start_time": "2023-08-22T11:36:31.805Z"
   },
   {
    "duration": 21,
    "start_time": "2023-08-22T11:39:15.962Z"
   },
   {
    "duration": 501,
    "start_time": "2023-08-22T11:39:17.956Z"
   },
   {
    "duration": 1557,
    "start_time": "2023-08-22T11:41:10.121Z"
   },
   {
    "duration": 0,
    "start_time": "2023-08-22T11:41:11.695Z"
   },
   {
    "duration": 0,
    "start_time": "2023-08-22T11:41:11.696Z"
   },
   {
    "duration": 0,
    "start_time": "2023-08-22T11:41:11.697Z"
   },
   {
    "duration": 0,
    "start_time": "2023-08-22T11:41:11.699Z"
   },
   {
    "duration": 0,
    "start_time": "2023-08-22T11:41:11.700Z"
   },
   {
    "duration": 0,
    "start_time": "2023-08-22T11:41:11.701Z"
   },
   {
    "duration": 0,
    "start_time": "2023-08-22T11:41:11.702Z"
   },
   {
    "duration": 0,
    "start_time": "2023-08-22T11:41:11.703Z"
   },
   {
    "duration": 0,
    "start_time": "2023-08-22T11:41:11.704Z"
   },
   {
    "duration": 0,
    "start_time": "2023-08-22T11:41:11.706Z"
   },
   {
    "duration": 0,
    "start_time": "2023-08-22T11:41:11.707Z"
   },
   {
    "duration": 0,
    "start_time": "2023-08-22T11:41:11.709Z"
   },
   {
    "duration": 0,
    "start_time": "2023-08-22T11:41:11.710Z"
   },
   {
    "duration": 0,
    "start_time": "2023-08-22T11:41:11.712Z"
   },
   {
    "duration": 0,
    "start_time": "2023-08-22T11:41:11.713Z"
   },
   {
    "duration": 0,
    "start_time": "2023-08-22T11:41:11.714Z"
   },
   {
    "duration": 0,
    "start_time": "2023-08-22T11:41:11.716Z"
   },
   {
    "duration": 0,
    "start_time": "2023-08-22T11:41:11.717Z"
   },
   {
    "duration": 0,
    "start_time": "2023-08-22T11:41:11.719Z"
   },
   {
    "duration": 0,
    "start_time": "2023-08-22T11:41:11.721Z"
   },
   {
    "duration": 0,
    "start_time": "2023-08-22T11:41:11.722Z"
   },
   {
    "duration": 0,
    "start_time": "2023-08-22T11:41:11.723Z"
   },
   {
    "duration": 0,
    "start_time": "2023-08-22T11:41:11.725Z"
   },
   {
    "duration": 0,
    "start_time": "2023-08-22T11:41:11.726Z"
   },
   {
    "duration": 0,
    "start_time": "2023-08-22T11:41:11.727Z"
   },
   {
    "duration": 0,
    "start_time": "2023-08-22T11:41:11.728Z"
   },
   {
    "duration": 0,
    "start_time": "2023-08-22T11:41:11.729Z"
   },
   {
    "duration": 0,
    "start_time": "2023-08-22T11:41:11.731Z"
   },
   {
    "duration": 0,
    "start_time": "2023-08-22T11:41:11.732Z"
   },
   {
    "duration": 4,
    "start_time": "2023-08-22T11:41:19.602Z"
   },
   {
    "duration": 332,
    "start_time": "2023-08-22T11:41:19.800Z"
   },
   {
    "duration": 1942,
    "start_time": "2023-08-22T12:31:01.602Z"
   },
   {
    "duration": 0,
    "start_time": "2023-08-22T12:31:03.546Z"
   },
   {
    "duration": 3485,
    "start_time": "2023-08-22T12:42:42.301Z"
   },
   {
    "duration": 41,
    "start_time": "2023-08-22T12:43:09.064Z"
   },
   {
    "duration": 3250,
    "start_time": "2023-08-22T12:43:09.769Z"
   },
   {
    "duration": 3,
    "start_time": "2023-08-22T12:43:21.168Z"
   },
   {
    "duration": 87,
    "start_time": "2023-08-22T12:43:22.233Z"
   },
   {
    "duration": 14,
    "start_time": "2023-08-22T12:43:22.904Z"
   },
   {
    "duration": 109,
    "start_time": "2023-08-22T12:46:36.874Z"
   },
   {
    "duration": 3,
    "start_time": "2023-08-22T12:46:40.741Z"
   },
   {
    "duration": 95,
    "start_time": "2023-08-22T12:46:42.736Z"
   },
   {
    "duration": 1299,
    "start_time": "2023-08-22T12:50:26.813Z"
   },
   {
    "duration": 35,
    "start_time": "2023-08-22T12:50:28.117Z"
   },
   {
    "duration": 5,
    "start_time": "2023-08-22T12:50:58.832Z"
   },
   {
    "duration": 3419,
    "start_time": "2023-08-22T12:50:59.381Z"
   },
   {
    "duration": 8,
    "start_time": "2023-08-22T12:51:02.803Z"
   },
   {
    "duration": 7,
    "start_time": "2023-08-22T12:51:10.105Z"
   },
   {
    "duration": 987,
    "start_time": "2023-08-22T12:51:10.613Z"
   },
   {
    "duration": 126,
    "start_time": "2023-08-22T12:51:23.916Z"
   },
   {
    "duration": 6,
    "start_time": "2023-08-22T12:51:27.396Z"
   },
   {
    "duration": 12,
    "start_time": "2023-08-22T12:51:37.249Z"
   },
   {
    "duration": 17,
    "start_time": "2023-08-22T12:51:38.746Z"
   },
   {
    "duration": 42,
    "start_time": "2023-08-22T12:51:39.156Z"
   },
   {
    "duration": 26,
    "start_time": "2023-08-22T12:51:43.196Z"
   },
   {
    "duration": 8,
    "start_time": "2023-08-22T12:51:44.372Z"
   },
   {
    "duration": 13,
    "start_time": "2023-08-22T12:51:45.374Z"
   },
   {
    "duration": 28,
    "start_time": "2023-08-22T12:51:46.445Z"
   },
   {
    "duration": 28,
    "start_time": "2023-08-22T12:51:48.995Z"
   },
   {
    "duration": 9,
    "start_time": "2023-08-22T12:52:49.346Z"
   },
   {
    "duration": 7,
    "start_time": "2023-08-22T12:52:52.133Z"
   },
   {
    "duration": 954,
    "start_time": "2023-08-22T12:53:09.052Z"
   },
   {
    "duration": 166,
    "start_time": "2023-08-22T12:53:10.087Z"
   },
   {
    "duration": 43,
    "start_time": "2023-08-22T12:54:04.757Z"
   },
   {
    "duration": 46,
    "start_time": "2023-08-22T12:54:08.417Z"
   },
   {
    "duration": 13704,
    "start_time": "2023-08-22T12:54:11.820Z"
   },
   {
    "duration": 5035,
    "start_time": "2023-08-22T12:54:25.528Z"
   },
   {
    "duration": 2301,
    "start_time": "2023-08-22T12:56:54.654Z"
   },
   {
    "duration": 5,
    "start_time": "2023-08-22T12:56:56.959Z"
   },
   {
    "duration": 1283,
    "start_time": "2023-08-22T12:56:56.966Z"
   },
   {
    "duration": 114,
    "start_time": "2023-08-22T12:56:58.253Z"
   },
   {
    "duration": 5,
    "start_time": "2023-08-22T12:56:58.381Z"
   },
   {
    "duration": 48,
    "start_time": "2023-08-22T12:56:58.389Z"
   },
   {
    "duration": 47,
    "start_time": "2023-08-22T12:56:58.440Z"
   },
   {
    "duration": 53,
    "start_time": "2023-08-22T12:56:58.490Z"
   },
   {
    "duration": 33,
    "start_time": "2023-08-22T12:56:58.546Z"
   },
   {
    "duration": 19,
    "start_time": "2023-08-22T12:56:58.591Z"
   },
   {
    "duration": 34,
    "start_time": "2023-08-22T12:56:58.613Z"
   },
   {
    "duration": 69,
    "start_time": "2023-08-22T12:56:58.650Z"
   },
   {
    "duration": 30,
    "start_time": "2023-08-22T12:56:58.726Z"
   },
   {
    "duration": 18,
    "start_time": "2023-08-22T12:56:58.758Z"
   },
   {
    "duration": 38,
    "start_time": "2023-08-22T12:56:58.779Z"
   },
   {
    "duration": 878,
    "start_time": "2023-08-22T12:56:58.819Z"
   },
   {
    "duration": 282,
    "start_time": "2023-08-22T12:56:59.699Z"
   },
   {
    "duration": 33,
    "start_time": "2023-08-22T12:56:59.984Z"
   },
   {
    "duration": 73,
    "start_time": "2023-08-22T12:57:00.020Z"
   },
   {
    "duration": 12174,
    "start_time": "2023-08-22T12:57:00.096Z"
   },
   {
    "duration": 4565,
    "start_time": "2023-08-22T12:57:12.273Z"
   },
   {
    "duration": 26133,
    "start_time": "2023-08-22T12:57:16.840Z"
   },
   {
    "duration": 658,
    "start_time": "2023-08-22T12:57:42.976Z"
   },
   {
    "duration": 14,
    "start_time": "2023-08-22T12:57:43.638Z"
   },
   {
    "duration": 43,
    "start_time": "2023-08-22T12:57:43.655Z"
   },
   {
    "duration": 13,
    "start_time": "2023-08-22T12:57:43.701Z"
   },
   {
    "duration": 26,
    "start_time": "2023-08-22T12:57:43.716Z"
   },
   {
    "duration": 63,
    "start_time": "2023-08-22T12:57:43.749Z"
   },
   {
    "duration": 32,
    "start_time": "2023-08-22T12:57:43.815Z"
   },
   {
    "duration": 5,
    "start_time": "2023-08-22T12:57:43.849Z"
   },
   {
    "duration": 27,
    "start_time": "2023-08-22T12:57:43.856Z"
   },
   {
    "duration": 5,
    "start_time": "2023-08-22T12:57:43.886Z"
   },
   {
    "duration": 897,
    "start_time": "2023-08-22T12:57:43.893Z"
   },
   {
    "duration": 97,
    "start_time": "2023-08-22T12:57:44.792Z"
   },
   {
    "duration": 5,
    "start_time": "2023-08-22T12:57:44.891Z"
   },
   {
    "duration": 8,
    "start_time": "2023-08-22T12:57:44.898Z"
   },
   {
    "duration": 28,
    "start_time": "2023-08-22T12:57:44.909Z"
   },
   {
    "duration": 58,
    "start_time": "2023-08-22T12:57:44.940Z"
   },
   {
    "duration": 25,
    "start_time": "2023-08-22T12:57:45.000Z"
   },
   {
    "duration": 14,
    "start_time": "2023-08-22T12:57:45.027Z"
   },
   {
    "duration": 12,
    "start_time": "2023-08-22T12:57:45.043Z"
   },
   {
    "duration": 41,
    "start_time": "2023-08-22T12:57:45.068Z"
   },
   {
    "duration": 43,
    "start_time": "2023-08-22T12:57:45.112Z"
   },
   {
    "duration": 8,
    "start_time": "2023-08-22T12:57:45.157Z"
   },
   {
    "duration": 27,
    "start_time": "2023-08-22T12:57:45.167Z"
   },
   {
    "duration": 147,
    "start_time": "2023-08-22T12:57:45.199Z"
   },
   {
    "duration": 158,
    "start_time": "2023-08-22T12:57:45.348Z"
   },
   {
    "duration": 35,
    "start_time": "2023-08-22T12:57:45.509Z"
   },
   {
    "duration": 37,
    "start_time": "2023-08-22T12:57:45.582Z"
   },
   {
    "duration": 11919,
    "start_time": "2023-08-22T12:57:45.621Z"
   },
   {
    "duration": 4493,
    "start_time": "2023-08-22T12:57:57.547Z"
   },
   {
    "duration": 28358,
    "start_time": "2023-08-22T12:58:02.044Z"
   },
   {
    "duration": 445,
    "start_time": "2023-08-22T12:58:30.409Z"
   },
   {
    "duration": 27,
    "start_time": "2023-08-22T12:58:30.856Z"
   },
   {
    "duration": 49,
    "start_time": "2023-08-22T12:58:30.894Z"
   },
   {
    "duration": 95,
    "start_time": "2023-08-22T12:58:30.945Z"
   },
   {
    "duration": 56,
    "start_time": "2023-08-22T12:58:31.043Z"
   },
   {
    "duration": 75,
    "start_time": "2023-08-22T12:58:31.102Z"
   },
   {
    "duration": 79,
    "start_time": "2023-08-22T12:58:31.179Z"
   },
   {
    "duration": 59,
    "start_time": "2023-08-22T12:58:31.260Z"
   },
   {
    "duration": 52,
    "start_time": "2023-08-22T12:58:31.322Z"
   },
   {
    "duration": 62,
    "start_time": "2023-08-22T12:58:31.377Z"
   },
   {
    "duration": 953,
    "start_time": "2023-08-22T12:58:32.039Z"
   },
   {
    "duration": 99,
    "start_time": "2023-08-22T12:58:33.000Z"
   },
   {
    "duration": 5,
    "start_time": "2023-08-22T12:58:34.334Z"
   },
   {
    "duration": 9,
    "start_time": "2023-08-22T12:58:36.179Z"
   },
   {
    "duration": 18,
    "start_time": "2023-08-22T12:58:37.903Z"
   },
   {
    "duration": 28,
    "start_time": "2023-08-22T12:58:39.028Z"
   },
   {
    "duration": 31,
    "start_time": "2023-08-22T12:58:42.373Z"
   },
   {
    "duration": 13,
    "start_time": "2023-08-22T12:58:44.698Z"
   },
   {
    "duration": 11,
    "start_time": "2023-08-22T12:58:46.818Z"
   },
   {
    "duration": 43,
    "start_time": "2023-08-22T12:58:48.214Z"
   },
   {
    "duration": 30,
    "start_time": "2023-08-22T12:58:51.281Z"
   },
   {
    "duration": 9,
    "start_time": "2023-08-22T12:58:52.151Z"
   },
   {
    "duration": 7,
    "start_time": "2023-08-22T12:58:53.069Z"
   },
   {
    "duration": 322,
    "start_time": "2023-08-22T12:58:54.029Z"
   },
   {
    "duration": 168,
    "start_time": "2023-08-22T12:58:57.514Z"
   },
   {
    "duration": 37,
    "start_time": "2023-08-22T12:59:01.494Z"
   },
   {
    "duration": 34,
    "start_time": "2023-08-22T12:59:03.369Z"
   },
   {
    "duration": 12722,
    "start_time": "2023-08-22T12:59:04.911Z"
   },
   {
    "duration": 5205,
    "start_time": "2023-08-22T12:59:17.637Z"
   },
   {
    "duration": 2233,
    "start_time": "2023-08-22T12:59:43.383Z"
   },
   {
    "duration": 6,
    "start_time": "2023-08-22T12:59:45.619Z"
   },
   {
    "duration": 1148,
    "start_time": "2023-08-22T12:59:45.627Z"
   },
   {
    "duration": 111,
    "start_time": "2023-08-22T12:59:46.778Z"
   },
   {
    "duration": 6,
    "start_time": "2023-08-22T12:59:46.897Z"
   },
   {
    "duration": 14,
    "start_time": "2023-08-22T12:59:46.906Z"
   },
   {
    "duration": 25,
    "start_time": "2023-08-22T12:59:46.922Z"
   },
   {
    "duration": 68,
    "start_time": "2023-08-22T12:59:46.949Z"
   },
   {
    "duration": 35,
    "start_time": "2023-08-22T12:59:47.019Z"
   },
   {
    "duration": 8,
    "start_time": "2023-08-22T12:59:47.059Z"
   },
   {
    "duration": 11,
    "start_time": "2023-08-22T12:59:47.070Z"
   },
   {
    "duration": 65,
    "start_time": "2023-08-22T12:59:47.083Z"
   },
   {
    "duration": 33,
    "start_time": "2023-08-22T12:59:47.150Z"
   },
   {
    "duration": 12,
    "start_time": "2023-08-22T12:59:47.193Z"
   },
   {
    "duration": 7,
    "start_time": "2023-08-22T12:59:47.207Z"
   },
   {
    "duration": 781,
    "start_time": "2023-08-22T12:59:47.220Z"
   },
   {
    "duration": 243,
    "start_time": "2023-08-22T12:59:48.003Z"
   },
   {
    "duration": 79,
    "start_time": "2023-08-22T12:59:48.248Z"
   },
   {
    "duration": 29,
    "start_time": "2023-08-22T12:59:48.329Z"
   },
   {
    "duration": 13995,
    "start_time": "2023-08-22T12:59:48.361Z"
   },
   {
    "duration": 4815,
    "start_time": "2023-08-22T13:00:02.358Z"
   },
   {
    "duration": 30801,
    "start_time": "2023-08-22T13:00:07.175Z"
   },
   {
    "duration": 838,
    "start_time": "2023-08-22T13:00:37.983Z"
   },
   {
    "duration": 16,
    "start_time": "2023-08-22T13:00:38.823Z"
   },
   {
    "duration": 48,
    "start_time": "2023-08-22T13:00:38.842Z"
   },
   {
    "duration": 21,
    "start_time": "2023-08-22T13:00:38.892Z"
   },
   {
    "duration": 21,
    "start_time": "2023-08-22T13:00:38.916Z"
   },
   {
    "duration": 59,
    "start_time": "2023-08-22T13:00:38.943Z"
   },
   {
    "duration": 7,
    "start_time": "2023-08-22T13:00:39.053Z"
   },
   {
    "duration": 57,
    "start_time": "2023-08-22T13:00:39.081Z"
   },
   {
    "duration": 7,
    "start_time": "2023-08-22T13:00:59.240Z"
   },
   {
    "duration": 3,
    "start_time": "2023-08-22T13:01:00.116Z"
   },
   {
    "duration": 905,
    "start_time": "2023-08-22T13:01:00.760Z"
   },
   {
    "duration": 101,
    "start_time": "2023-08-22T13:01:01.668Z"
   },
   {
    "duration": 1014,
    "start_time": "2023-08-22T13:01:29.264Z"
   },
   {
    "duration": 1102,
    "start_time": "2023-08-22T13:01:38.550Z"
   },
   {
    "duration": 118,
    "start_time": "2023-08-22T13:01:39.655Z"
   },
   {
    "duration": 5,
    "start_time": "2023-08-22T13:01:41.089Z"
   },
   {
    "duration": 8,
    "start_time": "2023-08-22T13:01:42.438Z"
   },
   {
    "duration": 19,
    "start_time": "2023-08-22T13:01:46.705Z"
   },
   {
    "duration": 22,
    "start_time": "2023-08-22T13:01:48.646Z"
   },
   {
    "duration": 26,
    "start_time": "2023-08-22T13:01:52.042Z"
   },
   {
    "duration": 8,
    "start_time": "2023-08-22T13:01:54.605Z"
   },
   {
    "duration": 18,
    "start_time": "2023-08-22T13:01:55.386Z"
   },
   {
    "duration": 45,
    "start_time": "2023-08-22T13:01:56.223Z"
   },
   {
    "duration": 38,
    "start_time": "2023-08-22T13:01:59.280Z"
   },
   {
    "duration": 11,
    "start_time": "2023-08-22T13:02:00.580Z"
   },
   {
    "duration": 6,
    "start_time": "2023-08-22T13:02:02.697Z"
   },
   {
    "duration": 109,
    "start_time": "2023-08-22T13:02:04.103Z"
   },
   {
    "duration": 127,
    "start_time": "2023-08-22T13:02:07.619Z"
   },
   {
    "duration": 40,
    "start_time": "2023-08-22T13:02:13.291Z"
   },
   {
    "duration": 44,
    "start_time": "2023-08-22T13:02:17.164Z"
   },
   {
    "duration": 10545,
    "start_time": "2023-08-22T13:02:21.723Z"
   },
   {
    "duration": 4687,
    "start_time": "2023-08-22T13:02:32.271Z"
   },
   {
    "duration": 25190,
    "start_time": "2023-08-22T13:02:42.199Z"
   },
   {
    "duration": 24989,
    "start_time": "2023-08-22T13:03:13.152Z"
   },
   {
    "duration": 424,
    "start_time": "2023-08-22T13:03:38.143Z"
   },
   {
    "duration": 24,
    "start_time": "2023-08-22T13:03:38.570Z"
   },
   {
    "duration": 24,
    "start_time": "2023-08-22T13:03:38.598Z"
   },
   {
    "duration": 13,
    "start_time": "2023-08-22T13:03:38.624Z"
   },
   {
    "duration": 52,
    "start_time": "2023-08-22T13:03:38.639Z"
   },
   {
    "duration": 26,
    "start_time": "2023-08-22T13:03:38.693Z"
   },
   {
    "duration": 26,
    "start_time": "2023-08-22T13:03:38.722Z"
   },
   {
    "duration": 43,
    "start_time": "2023-08-22T13:03:38.750Z"
   },
   {
    "duration": 1826,
    "start_time": "2023-08-22T13:03:58.805Z"
   },
   {
    "duration": 4,
    "start_time": "2023-08-22T13:04:00.634Z"
   },
   {
    "duration": 972,
    "start_time": "2023-08-22T13:04:00.640Z"
   },
   {
    "duration": 89,
    "start_time": "2023-08-22T13:04:01.615Z"
   },
   {
    "duration": 4,
    "start_time": "2023-08-22T13:04:01.706Z"
   },
   {
    "duration": 44,
    "start_time": "2023-08-22T13:04:01.713Z"
   },
   {
    "duration": 64,
    "start_time": "2023-08-22T13:04:01.759Z"
   },
   {
    "duration": 59,
    "start_time": "2023-08-22T13:04:01.826Z"
   },
   {
    "duration": 85,
    "start_time": "2023-08-22T13:04:01.887Z"
   },
   {
    "duration": 108,
    "start_time": "2023-08-22T13:04:01.976Z"
   },
   {
    "duration": 54,
    "start_time": "2023-08-22T13:04:02.086Z"
   },
   {
    "duration": 143,
    "start_time": "2023-08-22T13:04:02.143Z"
   },
   {
    "duration": 76,
    "start_time": "2023-08-22T13:04:02.288Z"
   },
   {
    "duration": 36,
    "start_time": "2023-08-22T13:04:02.368Z"
   },
   {
    "duration": 56,
    "start_time": "2023-08-22T13:04:02.406Z"
   },
   {
    "duration": 760,
    "start_time": "2023-08-22T13:04:02.464Z"
   },
   {
    "duration": 214,
    "start_time": "2023-08-22T13:04:03.227Z"
   },
   {
    "duration": 51,
    "start_time": "2023-08-22T13:04:03.444Z"
   },
   {
    "duration": 22,
    "start_time": "2023-08-22T13:04:03.497Z"
   },
   {
    "duration": 11376,
    "start_time": "2023-08-22T13:04:03.521Z"
   },
   {
    "duration": 4564,
    "start_time": "2023-08-22T13:04:14.900Z"
   },
   {
    "duration": 1479,
    "start_time": "2023-08-23T06:44:52.230Z"
   },
   {
    "duration": 0,
    "start_time": "2023-08-23T06:44:53.711Z"
   },
   {
    "duration": 0,
    "start_time": "2023-08-23T06:44:53.712Z"
   },
   {
    "duration": 0,
    "start_time": "2023-08-23T06:44:53.713Z"
   },
   {
    "duration": 0,
    "start_time": "2023-08-23T06:44:53.714Z"
   },
   {
    "duration": 0,
    "start_time": "2023-08-23T06:44:53.715Z"
   },
   {
    "duration": 0,
    "start_time": "2023-08-23T06:44:53.716Z"
   },
   {
    "duration": 0,
    "start_time": "2023-08-23T06:44:53.718Z"
   },
   {
    "duration": 1,
    "start_time": "2023-08-23T06:44:53.718Z"
   },
   {
    "duration": 0,
    "start_time": "2023-08-23T06:44:53.719Z"
   },
   {
    "duration": 0,
    "start_time": "2023-08-23T06:44:53.720Z"
   },
   {
    "duration": 0,
    "start_time": "2023-08-23T06:44:53.722Z"
   },
   {
    "duration": 0,
    "start_time": "2023-08-23T06:44:53.722Z"
   },
   {
    "duration": 0,
    "start_time": "2023-08-23T06:44:53.723Z"
   },
   {
    "duration": 0,
    "start_time": "2023-08-23T06:44:53.724Z"
   },
   {
    "duration": 0,
    "start_time": "2023-08-23T06:44:53.726Z"
   },
   {
    "duration": 0,
    "start_time": "2023-08-23T06:44:53.727Z"
   },
   {
    "duration": 0,
    "start_time": "2023-08-23T06:44:53.728Z"
   },
   {
    "duration": 0,
    "start_time": "2023-08-23T06:44:53.729Z"
   },
   {
    "duration": 0,
    "start_time": "2023-08-23T06:44:53.730Z"
   },
   {
    "duration": 0,
    "start_time": "2023-08-23T06:44:53.731Z"
   },
   {
    "duration": 1,
    "start_time": "2023-08-23T06:44:53.732Z"
   },
   {
    "duration": 0,
    "start_time": "2023-08-23T06:44:53.734Z"
   },
   {
    "duration": 0,
    "start_time": "2023-08-23T06:44:53.736Z"
   },
   {
    "duration": 0,
    "start_time": "2023-08-23T06:44:53.737Z"
   },
   {
    "duration": 0,
    "start_time": "2023-08-23T06:44:53.738Z"
   },
   {
    "duration": 0,
    "start_time": "2023-08-23T06:44:53.781Z"
   },
   {
    "duration": 0,
    "start_time": "2023-08-23T06:44:53.782Z"
   },
   {
    "duration": 0,
    "start_time": "2023-08-23T06:44:53.783Z"
   },
   {
    "duration": 0,
    "start_time": "2023-08-23T06:44:53.784Z"
   },
   {
    "duration": 1242,
    "start_time": "2023-08-23T06:45:04.287Z"
   },
   {
    "duration": 4707,
    "start_time": "2023-08-23T06:45:20.705Z"
   },
   {
    "duration": 3,
    "start_time": "2023-08-23T06:45:25.414Z"
   },
   {
    "duration": 1291,
    "start_time": "2023-08-23T06:45:25.419Z"
   },
   {
    "duration": 97,
    "start_time": "2023-08-23T06:45:26.713Z"
   },
   {
    "duration": 4,
    "start_time": "2023-08-23T06:45:26.812Z"
   },
   {
    "duration": 30,
    "start_time": "2023-08-23T06:45:26.817Z"
   },
   {
    "duration": 20,
    "start_time": "2023-08-23T06:45:26.849Z"
   },
   {
    "duration": 22,
    "start_time": "2023-08-23T06:45:26.871Z"
   },
   {
    "duration": 15,
    "start_time": "2023-08-23T06:45:26.895Z"
   },
   {
    "duration": 10,
    "start_time": "2023-08-23T06:45:26.913Z"
   },
   {
    "duration": 12,
    "start_time": "2023-08-23T06:45:26.925Z"
   },
   {
    "duration": 62,
    "start_time": "2023-08-23T06:45:26.939Z"
   },
   {
    "duration": 20,
    "start_time": "2023-08-23T06:45:27.003Z"
   },
   {
    "duration": 6,
    "start_time": "2023-08-23T06:45:27.025Z"
   },
   {
    "duration": 13,
    "start_time": "2023-08-23T06:45:27.032Z"
   },
   {
    "duration": 872,
    "start_time": "2023-08-23T06:45:27.047Z"
   },
   {
    "duration": 171,
    "start_time": "2023-08-23T06:45:27.921Z"
   },
   {
    "duration": 23,
    "start_time": "2023-08-23T06:45:28.094Z"
   },
   {
    "duration": 19,
    "start_time": "2023-08-23T06:45:28.119Z"
   },
   {
    "duration": 8212,
    "start_time": "2023-08-23T06:45:28.140Z"
   },
   {
    "duration": 3429,
    "start_time": "2023-08-23T06:45:36.353Z"
   },
   {
    "duration": 18706,
    "start_time": "2023-08-23T06:45:39.783Z"
   },
   {
    "duration": 480,
    "start_time": "2023-08-23T06:45:58.491Z"
   },
   {
    "duration": 14,
    "start_time": "2023-08-23T06:45:58.972Z"
   },
   {
    "duration": 17,
    "start_time": "2023-08-23T06:45:58.988Z"
   },
   {
    "duration": 9,
    "start_time": "2023-08-23T06:45:59.007Z"
   },
   {
    "duration": 14,
    "start_time": "2023-08-23T06:45:59.018Z"
   },
   {
    "duration": 56,
    "start_time": "2023-08-23T06:45:59.035Z"
   },
   {
    "duration": 22,
    "start_time": "2023-08-23T06:45:59.093Z"
   },
   {
    "duration": 5,
    "start_time": "2023-08-23T06:45:59.117Z"
   },
   {
    "duration": 5009,
    "start_time": "2023-08-24T02:53:28.909Z"
   },
   {
    "duration": 3,
    "start_time": "2023-08-24T02:53:33.920Z"
   },
   {
    "duration": 1379,
    "start_time": "2023-08-24T02:53:36.512Z"
   },
   {
    "duration": 68,
    "start_time": "2023-08-24T02:53:37.893Z"
   },
   {
    "duration": 4,
    "start_time": "2023-08-24T02:53:40.148Z"
   },
   {
    "duration": 6,
    "start_time": "2023-08-24T02:53:41.572Z"
   },
   {
    "duration": 11,
    "start_time": "2023-08-24T02:53:42.606Z"
   },
   {
    "duration": 24,
    "start_time": "2023-08-24T02:53:43.144Z"
   },
   {
    "duration": 17,
    "start_time": "2023-08-24T02:53:45.156Z"
   },
   {
    "duration": 7,
    "start_time": "2023-08-24T02:53:45.783Z"
   },
   {
    "duration": 9,
    "start_time": "2023-08-24T02:53:46.620Z"
   },
   {
    "duration": 28,
    "start_time": "2023-08-24T02:53:46.978Z"
   },
   {
    "duration": 19,
    "start_time": "2023-08-24T02:53:48.705Z"
   },
   {
    "duration": 6,
    "start_time": "2023-08-24T02:53:49.334Z"
   },
   {
    "duration": 6,
    "start_time": "2023-08-24T02:53:49.930Z"
   },
   {
    "duration": 542,
    "start_time": "2023-08-24T02:53:50.753Z"
   },
   {
    "duration": 163,
    "start_time": "2023-08-24T02:53:51.297Z"
   },
   {
    "duration": 2042,
    "start_time": "2023-08-24T02:54:01.981Z"
   },
   {
    "duration": 2039,
    "start_time": "2023-08-24T02:54:57.648Z"
   },
   {
    "duration": 21,
    "start_time": "2023-08-24T02:55:37.054Z"
   }
  ],
  "kernelspec": {
   "display_name": "Python 3 (ipykernel)",
   "language": "python",
   "name": "python3"
  },
  "language_info": {
   "codemirror_mode": {
    "name": "ipython",
    "version": 3
   },
   "file_extension": ".py",
   "mimetype": "text/x-python",
   "name": "python",
   "nbconvert_exporter": "python",
   "pygments_lexer": "ipython3",
   "version": "3.9.16"
  },
  "toc": {
   "base_numbering": 1,
   "nav_menu": {},
   "number_sections": true,
   "sideBar": true,
   "skip_h1_title": true,
   "title_cell": "Table of Contents",
   "title_sidebar": "Contents",
   "toc_cell": false,
   "toc_position": {},
   "toc_section_display": true,
   "toc_window_display": false
  }
 },
 "nbformat": 4,
 "nbformat_minor": 2
}
